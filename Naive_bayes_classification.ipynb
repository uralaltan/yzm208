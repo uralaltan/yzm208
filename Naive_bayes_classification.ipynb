{
  "cells": [
    {
      "cell_type": "markdown",
      "source": [
        "# Ödev"
      ],
      "metadata": {
        "id": "8HFXjGGkJWm8"
      },
      "id": "8HFXjGGkJWm8"
    },
    {
      "cell_type": "markdown",
      "source": [
        "## Giriş"
      ],
      "metadata": {
        "id": "K-CnKQqxVVkS"
      },
      "id": "K-CnKQqxVVkS"
    },
    {
      "cell_type": "code",
      "source": [
        "# Google Drive'ı Colab'a bağla\n",
        "from google.colab import drive\n",
        "drive.mount('/content/drive')\n",
        "\n",
        "# Uygun dosya yolunu gir\n",
        "# Odevler dosyası, örn. 'yzm208/odevler/odev1/'\n",
        "FOLDERNAME = 'yzm208/odevler/odev1/'\n",
        "assert FOLDERNAME is not None, \"[!] Enter the foldername.\"\n",
        "\n",
        "# Drive'ı bağladığımız için şu an Google Colab\n",
        "# Python dosyalarını içinde açabilir\n",
        "import sys\n",
        "sys.path.append('/content/drive/My Drive/{}'.format(FOLDERNAME))"
      ],
      "metadata": {
        "id": "itLGxJnBJvYe",
        "colab": {
          "base_uri": "https://localhost:8080/"
        },
        "outputId": "8daf8a25-1a71-4f7f-9250-763e57f3a8dc"
      },
      "id": "itLGxJnBJvYe",
      "execution_count": 1,
      "outputs": [
        {
          "output_type": "stream",
          "name": "stdout",
          "text": [
            "Mounted at /content/drive\n"
          ]
        }
      ]
    },
    {
      "cell_type": "markdown",
      "id": "bbf89e47",
      "metadata": {
        "id": "bbf89e47"
      },
      "source": [
        "Ödevde Naive Bayes algoritması kullanılarak 3 adet model geliştirilecektir. Ödevin amacı; Naive Bayes'in teorik alt yapısını anlamak ve bununla ilgili uygulama yapmaktır. Ödevin teorik kısmı GitHub readme.md içerisinde açıklanacaktır. IMRAD (Giriş (Özet), Metot, Sonuçlar ve Yorum) formatı kullanılabilir. Algoritmanın teorik yapısı ve kullanılan hiper parametrelerin çalışma prensibi anlatılmalıdır. Repository'nin Readme.md dosyası okunarak çalışma tekrarlanabilir olmalıdır."
      ]
    },
    {
      "cell_type": "markdown",
      "id": "27a5cddd",
      "metadata": {
        "id": "27a5cddd"
      },
      "source": [
        "## Veri Seti"
      ]
    },
    {
      "cell_type": "code",
      "execution_count": 2,
      "id": "41b4cad3",
      "metadata": {
        "id": "41b4cad3"
      },
      "outputs": [],
      "source": [
        "import numpy as np\n",
        "import pandas as pd\n",
        "import matplotlib.pyplot as plt\n",
        "import seaborn as sns\n",
        "from sklearn.model_selection import train_test_split\n",
        "sns.set_style('darkgrid')"
      ]
    },
    {
      "cell_type": "code",
      "execution_count": 3,
      "id": "d356fa4f",
      "metadata": {
        "id": "d356fa4f",
        "colab": {
          "base_uri": "https://localhost:8080/",
          "height": 206
        },
        "outputId": "09889e1c-0520-4836-a501-acd2e4ef4621"
      },
      "outputs": [
        {
          "output_type": "execute_result",
          "data": {
            "text/plain": [
              "   Pregnancies  Glucose  BloodPressure  SkinThickness  Insulin   BMI  \\\n",
              "0            6      148             72             35        0  33.6   \n",
              "1            1       85             66             29        0  26.6   \n",
              "2            8      183             64              0        0  23.3   \n",
              "3            1       89             66             23       94  28.1   \n",
              "4            0      137             40             35      168  43.1   \n",
              "\n",
              "   DiabetesPedigreeFunction  Age  Outcome  \n",
              "0                     0.627   50        1  \n",
              "1                     0.351   31        0  \n",
              "2                     0.672   32        1  \n",
              "3                     0.167   21        0  \n",
              "4                     2.288   33        1  "
            ],
            "text/html": [
              "\n",
              "  <div id=\"df-8d09a29b-0759-4790-b207-513b16910ef9\" class=\"colab-df-container\">\n",
              "    <div>\n",
              "<style scoped>\n",
              "    .dataframe tbody tr th:only-of-type {\n",
              "        vertical-align: middle;\n",
              "    }\n",
              "\n",
              "    .dataframe tbody tr th {\n",
              "        vertical-align: top;\n",
              "    }\n",
              "\n",
              "    .dataframe thead th {\n",
              "        text-align: right;\n",
              "    }\n",
              "</style>\n",
              "<table border=\"1\" class=\"dataframe\">\n",
              "  <thead>\n",
              "    <tr style=\"text-align: right;\">\n",
              "      <th></th>\n",
              "      <th>Pregnancies</th>\n",
              "      <th>Glucose</th>\n",
              "      <th>BloodPressure</th>\n",
              "      <th>SkinThickness</th>\n",
              "      <th>Insulin</th>\n",
              "      <th>BMI</th>\n",
              "      <th>DiabetesPedigreeFunction</th>\n",
              "      <th>Age</th>\n",
              "      <th>Outcome</th>\n",
              "    </tr>\n",
              "  </thead>\n",
              "  <tbody>\n",
              "    <tr>\n",
              "      <th>0</th>\n",
              "      <td>6</td>\n",
              "      <td>148</td>\n",
              "      <td>72</td>\n",
              "      <td>35</td>\n",
              "      <td>0</td>\n",
              "      <td>33.6</td>\n",
              "      <td>0.627</td>\n",
              "      <td>50</td>\n",
              "      <td>1</td>\n",
              "    </tr>\n",
              "    <tr>\n",
              "      <th>1</th>\n",
              "      <td>1</td>\n",
              "      <td>85</td>\n",
              "      <td>66</td>\n",
              "      <td>29</td>\n",
              "      <td>0</td>\n",
              "      <td>26.6</td>\n",
              "      <td>0.351</td>\n",
              "      <td>31</td>\n",
              "      <td>0</td>\n",
              "    </tr>\n",
              "    <tr>\n",
              "      <th>2</th>\n",
              "      <td>8</td>\n",
              "      <td>183</td>\n",
              "      <td>64</td>\n",
              "      <td>0</td>\n",
              "      <td>0</td>\n",
              "      <td>23.3</td>\n",
              "      <td>0.672</td>\n",
              "      <td>32</td>\n",
              "      <td>1</td>\n",
              "    </tr>\n",
              "    <tr>\n",
              "      <th>3</th>\n",
              "      <td>1</td>\n",
              "      <td>89</td>\n",
              "      <td>66</td>\n",
              "      <td>23</td>\n",
              "      <td>94</td>\n",
              "      <td>28.1</td>\n",
              "      <td>0.167</td>\n",
              "      <td>21</td>\n",
              "      <td>0</td>\n",
              "    </tr>\n",
              "    <tr>\n",
              "      <th>4</th>\n",
              "      <td>0</td>\n",
              "      <td>137</td>\n",
              "      <td>40</td>\n",
              "      <td>35</td>\n",
              "      <td>168</td>\n",
              "      <td>43.1</td>\n",
              "      <td>2.288</td>\n",
              "      <td>33</td>\n",
              "      <td>1</td>\n",
              "    </tr>\n",
              "  </tbody>\n",
              "</table>\n",
              "</div>\n",
              "    <div class=\"colab-df-buttons\">\n",
              "\n",
              "  <div class=\"colab-df-container\">\n",
              "    <button class=\"colab-df-convert\" onclick=\"convertToInteractive('df-8d09a29b-0759-4790-b207-513b16910ef9')\"\n",
              "            title=\"Convert this dataframe to an interactive table.\"\n",
              "            style=\"display:none;\">\n",
              "\n",
              "  <svg xmlns=\"http://www.w3.org/2000/svg\" height=\"24px\" viewBox=\"0 -960 960 960\">\n",
              "    <path d=\"M120-120v-720h720v720H120Zm60-500h600v-160H180v160Zm220 220h160v-160H400v160Zm0 220h160v-160H400v160ZM180-400h160v-160H180v160Zm440 0h160v-160H620v160ZM180-180h160v-160H180v160Zm440 0h160v-160H620v160Z\"/>\n",
              "  </svg>\n",
              "    </button>\n",
              "\n",
              "  <style>\n",
              "    .colab-df-container {\n",
              "      display:flex;\n",
              "      gap: 12px;\n",
              "    }\n",
              "\n",
              "    .colab-df-convert {\n",
              "      background-color: #E8F0FE;\n",
              "      border: none;\n",
              "      border-radius: 50%;\n",
              "      cursor: pointer;\n",
              "      display: none;\n",
              "      fill: #1967D2;\n",
              "      height: 32px;\n",
              "      padding: 0 0 0 0;\n",
              "      width: 32px;\n",
              "    }\n",
              "\n",
              "    .colab-df-convert:hover {\n",
              "      background-color: #E2EBFA;\n",
              "      box-shadow: 0px 1px 2px rgba(60, 64, 67, 0.3), 0px 1px 3px 1px rgba(60, 64, 67, 0.15);\n",
              "      fill: #174EA6;\n",
              "    }\n",
              "\n",
              "    .colab-df-buttons div {\n",
              "      margin-bottom: 4px;\n",
              "    }\n",
              "\n",
              "    [theme=dark] .colab-df-convert {\n",
              "      background-color: #3B4455;\n",
              "      fill: #D2E3FC;\n",
              "    }\n",
              "\n",
              "    [theme=dark] .colab-df-convert:hover {\n",
              "      background-color: #434B5C;\n",
              "      box-shadow: 0px 1px 3px 1px rgba(0, 0, 0, 0.15);\n",
              "      filter: drop-shadow(0px 1px 2px rgba(0, 0, 0, 0.3));\n",
              "      fill: #FFFFFF;\n",
              "    }\n",
              "  </style>\n",
              "\n",
              "    <script>\n",
              "      const buttonEl =\n",
              "        document.querySelector('#df-8d09a29b-0759-4790-b207-513b16910ef9 button.colab-df-convert');\n",
              "      buttonEl.style.display =\n",
              "        google.colab.kernel.accessAllowed ? 'block' : 'none';\n",
              "\n",
              "      async function convertToInteractive(key) {\n",
              "        const element = document.querySelector('#df-8d09a29b-0759-4790-b207-513b16910ef9');\n",
              "        const dataTable =\n",
              "          await google.colab.kernel.invokeFunction('convertToInteractive',\n",
              "                                                    [key], {});\n",
              "        if (!dataTable) return;\n",
              "\n",
              "        const docLinkHtml = 'Like what you see? Visit the ' +\n",
              "          '<a target=\"_blank\" href=https://colab.research.google.com/notebooks/data_table.ipynb>data table notebook</a>'\n",
              "          + ' to learn more about interactive tables.';\n",
              "        element.innerHTML = '';\n",
              "        dataTable['output_type'] = 'display_data';\n",
              "        await google.colab.output.renderOutput(dataTable, element);\n",
              "        const docLink = document.createElement('div');\n",
              "        docLink.innerHTML = docLinkHtml;\n",
              "        element.appendChild(docLink);\n",
              "      }\n",
              "    </script>\n",
              "  </div>\n",
              "\n",
              "\n",
              "<div id=\"df-101cb239-be93-4a03-863f-a1f0b8cc2337\">\n",
              "  <button class=\"colab-df-quickchart\" onclick=\"quickchart('df-101cb239-be93-4a03-863f-a1f0b8cc2337')\"\n",
              "            title=\"Suggest charts\"\n",
              "            style=\"display:none;\">\n",
              "\n",
              "<svg xmlns=\"http://www.w3.org/2000/svg\" height=\"24px\"viewBox=\"0 0 24 24\"\n",
              "     width=\"24px\">\n",
              "    <g>\n",
              "        <path d=\"M19 3H5c-1.1 0-2 .9-2 2v14c0 1.1.9 2 2 2h14c1.1 0 2-.9 2-2V5c0-1.1-.9-2-2-2zM9 17H7v-7h2v7zm4 0h-2V7h2v10zm4 0h-2v-4h2v4z\"/>\n",
              "    </g>\n",
              "</svg>\n",
              "  </button>\n",
              "\n",
              "<style>\n",
              "  .colab-df-quickchart {\n",
              "      --bg-color: #E8F0FE;\n",
              "      --fill-color: #1967D2;\n",
              "      --hover-bg-color: #E2EBFA;\n",
              "      --hover-fill-color: #174EA6;\n",
              "      --disabled-fill-color: #AAA;\n",
              "      --disabled-bg-color: #DDD;\n",
              "  }\n",
              "\n",
              "  [theme=dark] .colab-df-quickchart {\n",
              "      --bg-color: #3B4455;\n",
              "      --fill-color: #D2E3FC;\n",
              "      --hover-bg-color: #434B5C;\n",
              "      --hover-fill-color: #FFFFFF;\n",
              "      --disabled-bg-color: #3B4455;\n",
              "      --disabled-fill-color: #666;\n",
              "  }\n",
              "\n",
              "  .colab-df-quickchart {\n",
              "    background-color: var(--bg-color);\n",
              "    border: none;\n",
              "    border-radius: 50%;\n",
              "    cursor: pointer;\n",
              "    display: none;\n",
              "    fill: var(--fill-color);\n",
              "    height: 32px;\n",
              "    padding: 0;\n",
              "    width: 32px;\n",
              "  }\n",
              "\n",
              "  .colab-df-quickchart:hover {\n",
              "    background-color: var(--hover-bg-color);\n",
              "    box-shadow: 0 1px 2px rgba(60, 64, 67, 0.3), 0 1px 3px 1px rgba(60, 64, 67, 0.15);\n",
              "    fill: var(--button-hover-fill-color);\n",
              "  }\n",
              "\n",
              "  .colab-df-quickchart-complete:disabled,\n",
              "  .colab-df-quickchart-complete:disabled:hover {\n",
              "    background-color: var(--disabled-bg-color);\n",
              "    fill: var(--disabled-fill-color);\n",
              "    box-shadow: none;\n",
              "  }\n",
              "\n",
              "  .colab-df-spinner {\n",
              "    border: 2px solid var(--fill-color);\n",
              "    border-color: transparent;\n",
              "    border-bottom-color: var(--fill-color);\n",
              "    animation:\n",
              "      spin 1s steps(1) infinite;\n",
              "  }\n",
              "\n",
              "  @keyframes spin {\n",
              "    0% {\n",
              "      border-color: transparent;\n",
              "      border-bottom-color: var(--fill-color);\n",
              "      border-left-color: var(--fill-color);\n",
              "    }\n",
              "    20% {\n",
              "      border-color: transparent;\n",
              "      border-left-color: var(--fill-color);\n",
              "      border-top-color: var(--fill-color);\n",
              "    }\n",
              "    30% {\n",
              "      border-color: transparent;\n",
              "      border-left-color: var(--fill-color);\n",
              "      border-top-color: var(--fill-color);\n",
              "      border-right-color: var(--fill-color);\n",
              "    }\n",
              "    40% {\n",
              "      border-color: transparent;\n",
              "      border-right-color: var(--fill-color);\n",
              "      border-top-color: var(--fill-color);\n",
              "    }\n",
              "    60% {\n",
              "      border-color: transparent;\n",
              "      border-right-color: var(--fill-color);\n",
              "    }\n",
              "    80% {\n",
              "      border-color: transparent;\n",
              "      border-right-color: var(--fill-color);\n",
              "      border-bottom-color: var(--fill-color);\n",
              "    }\n",
              "    90% {\n",
              "      border-color: transparent;\n",
              "      border-bottom-color: var(--fill-color);\n",
              "    }\n",
              "  }\n",
              "</style>\n",
              "\n",
              "  <script>\n",
              "    async function quickchart(key) {\n",
              "      const quickchartButtonEl =\n",
              "        document.querySelector('#' + key + ' button');\n",
              "      quickchartButtonEl.disabled = true;  // To prevent multiple clicks.\n",
              "      quickchartButtonEl.classList.add('colab-df-spinner');\n",
              "      try {\n",
              "        const charts = await google.colab.kernel.invokeFunction(\n",
              "            'suggestCharts', [key], {});\n",
              "      } catch (error) {\n",
              "        console.error('Error during call to suggestCharts:', error);\n",
              "      }\n",
              "      quickchartButtonEl.classList.remove('colab-df-spinner');\n",
              "      quickchartButtonEl.classList.add('colab-df-quickchart-complete');\n",
              "    }\n",
              "    (() => {\n",
              "      let quickchartButtonEl =\n",
              "        document.querySelector('#df-101cb239-be93-4a03-863f-a1f0b8cc2337 button');\n",
              "      quickchartButtonEl.style.display =\n",
              "        google.colab.kernel.accessAllowed ? 'block' : 'none';\n",
              "    })();\n",
              "  </script>\n",
              "</div>\n",
              "\n",
              "    </div>\n",
              "  </div>\n"
            ],
            "application/vnd.google.colaboratory.intrinsic+json": {
              "type": "dataframe",
              "variable_name": "df",
              "summary": "{\n  \"name\": \"df\",\n  \"rows\": 768,\n  \"fields\": [\n    {\n      \"column\": \"Pregnancies\",\n      \"properties\": {\n        \"dtype\": \"number\",\n        \"std\": 3,\n        \"min\": 0,\n        \"max\": 17,\n        \"num_unique_values\": 17,\n        \"samples\": [\n          6,\n          1,\n          3\n        ],\n        \"semantic_type\": \"\",\n        \"description\": \"\"\n      }\n    },\n    {\n      \"column\": \"Glucose\",\n      \"properties\": {\n        \"dtype\": \"number\",\n        \"std\": 31,\n        \"min\": 0,\n        \"max\": 199,\n        \"num_unique_values\": 136,\n        \"samples\": [\n          151,\n          101,\n          112\n        ],\n        \"semantic_type\": \"\",\n        \"description\": \"\"\n      }\n    },\n    {\n      \"column\": \"BloodPressure\",\n      \"properties\": {\n        \"dtype\": \"number\",\n        \"std\": 19,\n        \"min\": 0,\n        \"max\": 122,\n        \"num_unique_values\": 47,\n        \"samples\": [\n          86,\n          46,\n          85\n        ],\n        \"semantic_type\": \"\",\n        \"description\": \"\"\n      }\n    },\n    {\n      \"column\": \"SkinThickness\",\n      \"properties\": {\n        \"dtype\": \"number\",\n        \"std\": 15,\n        \"min\": 0,\n        \"max\": 99,\n        \"num_unique_values\": 51,\n        \"samples\": [\n          7,\n          12,\n          48\n        ],\n        \"semantic_type\": \"\",\n        \"description\": \"\"\n      }\n    },\n    {\n      \"column\": \"Insulin\",\n      \"properties\": {\n        \"dtype\": \"number\",\n        \"std\": 115,\n        \"min\": 0,\n        \"max\": 846,\n        \"num_unique_values\": 186,\n        \"samples\": [\n          52,\n          41,\n          183\n        ],\n        \"semantic_type\": \"\",\n        \"description\": \"\"\n      }\n    },\n    {\n      \"column\": \"BMI\",\n      \"properties\": {\n        \"dtype\": \"number\",\n        \"std\": 7.884160320375446,\n        \"min\": 0.0,\n        \"max\": 67.1,\n        \"num_unique_values\": 248,\n        \"samples\": [\n          19.9,\n          31.0,\n          38.1\n        ],\n        \"semantic_type\": \"\",\n        \"description\": \"\"\n      }\n    },\n    {\n      \"column\": \"DiabetesPedigreeFunction\",\n      \"properties\": {\n        \"dtype\": \"number\",\n        \"std\": 0.3313285950127749,\n        \"min\": 0.078,\n        \"max\": 2.42,\n        \"num_unique_values\": 517,\n        \"samples\": [\n          1.731,\n          0.426,\n          0.138\n        ],\n        \"semantic_type\": \"\",\n        \"description\": \"\"\n      }\n    },\n    {\n      \"column\": \"Age\",\n      \"properties\": {\n        \"dtype\": \"number\",\n        \"std\": 11,\n        \"min\": 21,\n        \"max\": 81,\n        \"num_unique_values\": 52,\n        \"samples\": [\n          60,\n          47,\n          72\n        ],\n        \"semantic_type\": \"\",\n        \"description\": \"\"\n      }\n    },\n    {\n      \"column\": \"Outcome\",\n      \"properties\": {\n        \"dtype\": \"number\",\n        \"std\": 0,\n        \"min\": 0,\n        \"max\": 1,\n        \"num_unique_values\": 2,\n        \"samples\": [\n          0,\n          1\n        ],\n        \"semantic_type\": \"\",\n        \"description\": \"\"\n      }\n    }\n  ]\n}"
            }
          },
          "metadata": {},
          "execution_count": 3
        }
      ],
      "source": [
        "df = pd.read_csv(\"/content/drive/MyDrive/yzm208/odevler/odev1/yzm208/datasets/diabetes.csv\").copy()\n",
        "df.head()"
      ]
    },
    {
      "cell_type": "code",
      "source": [
        "df['Outcome'].hist()"
      ],
      "metadata": {
        "colab": {
          "base_uri": "https://localhost:8080/",
          "height": 447
        },
        "id": "Rcu5DiDc7-Jx",
        "outputId": "1bfaad34-9ed5-43d1-9d5f-95a16bbb5ec1"
      },
      "id": "Rcu5DiDc7-Jx",
      "execution_count": 4,
      "outputs": [
        {
          "output_type": "execute_result",
          "data": {
            "text/plain": [
              "<Axes: >"
            ]
          },
          "metadata": {},
          "execution_count": 4
        },
        {
          "output_type": "display_data",
          "data": {
            "text/plain": [
              "<Figure size 640x480 with 1 Axes>"
            ],
            "image/png": "[encoded data removed]"
          },
          "metadata": {}
        }
      ]
    },
    {
      "cell_type": "code",
      "source": [
        "corr = df.iloc[:, :-1].corr(method='pearson')\n",
        "cmap = sns.diverging_palette(250, 354, 80, 60, center='dark', as_cmap=True)\n",
        "sns.heatmap(corr, vmax=1, vmin=-.5, cmap=cmap, square=True, linewidths=0.2)"
      ],
      "metadata": {
        "colab": {
          "base_uri": "https://localhost:8080/",
          "height": 620
        },
        "id": "bmGt9lYoB4gL",
        "outputId": "17104525-9063-4a91-dbf4-50d7f9cf8e09"
      },
      "id": "bmGt9lYoB4gL",
      "execution_count": 5,
      "outputs": [
        {
          "output_type": "execute_result",
          "data": {
            "text/plain": [
              "<Axes: >"
            ]
          },
          "metadata": {},
          "execution_count": 5
        },
        {
          "output_type": "display_data",
          "data": {
            "text/plain": [
              "<Figure size 640x480 with 2 Axes>"
            ],
            "image/png": "[encoded data removed]"
          },
          "metadata": {}
        }
      ]
    },
    {
      "cell_type": "code",
      "source": [
        "data = df.copy()"
      ],
      "metadata": {
        "id": "EYV2hv8V8_MA"
      },
      "id": "EYV2hv8V8_MA",
      "execution_count": 6,
      "outputs": []
    },
    {
      "cell_type": "code",
      "source": [
        "X = data.drop(['Outcome'], axis = 1)\n",
        "y = data[\"Outcome\"]"
      ],
      "metadata": {
        "id": "tyk6HAfmDsay"
      },
      "id": "tyk6HAfmDsay",
      "execution_count": 7,
      "outputs": []
    },
    {
      "cell_type": "code",
      "source": [
        "X_train, X_test, y_train, y_test = train_test_split(X, y, test_size=0.10)"
      ],
      "metadata": {
        "id": "Ld8ygcfADwbg"
      },
      "id": "Ld8ygcfADwbg",
      "execution_count": 8,
      "outputs": []
    },
    {
      "cell_type": "markdown",
      "id": "19f8683e",
      "metadata": {
        "id": "19f8683e"
      },
      "source": [
        "## Birinci Model (Varsayılan Hiperparametreler ile Eğitim)"
      ]
    },
    {
      "cell_type": "code",
      "execution_count": 111,
      "id": "6445521e",
      "metadata": {
        "id": "6445521e"
      },
      "outputs": [],
      "source": [
        "from sklearn.naive_bayes import GaussianNB\n",
        "from sklearn import metrics\n",
        "from sklearn.metrics import accuracy_score, classification_report\n",
        "from sklearn.model_selection import GridSearchCV, RandomizedSearchCV\n",
        "from sklearn.preprocessing import StandardScaler, MinMaxScaler"
      ]
    },
    {
      "cell_type": "code",
      "execution_count": 10,
      "id": "5b5a696f",
      "metadata": {
        "id": "5b5a696f"
      },
      "outputs": [],
      "source": [
        "gnb = GaussianNB()"
      ]
    },
    {
      "cell_type": "code",
      "execution_count": 11,
      "id": "4e51dee5",
      "metadata": {
        "id": "4e51dee5",
        "colab": {
          "base_uri": "https://localhost:8080/"
        },
        "outputId": "9f902590-89ca-4a27-8616-cc80900ecd2a"
      },
      "outputs": [
        {
          "output_type": "execute_result",
          "data": {
            "text/plain": [
              "{'priors': None, 'var_smoothing': 1e-09}"
            ]
          },
          "metadata": {},
          "execution_count": 11
        }
      ],
      "source": [
        "gnb.get_params()"
      ]
    },
    {
      "cell_type": "code",
      "execution_count": 13,
      "id": "aac372de",
      "metadata": {
        "id": "aac372de"
      },
      "outputs": [],
      "source": [
        "y_pred = gnb.fit(X_train, y_train).predict(X_test)"
      ]
    },
    {
      "cell_type": "code",
      "source": [
        "print(\"Accuracy: \", accuracy_score(y_test, y_pred))\n",
        "print(classification_report(y_test, y_pred))\n",
        "confusion_matrix = metrics.confusion_matrix(y_test, y_pred)\n",
        "cm_display = metrics.ConfusionMatrixDisplay(confusion_matrix = confusion_matrix)\n",
        "cm_display.plot()\n",
        "plt.show()"
      ],
      "metadata": {
        "colab": {
          "base_uri": "https://localhost:8080/",
          "height": 623
        },
        "id": "51UbLiw99N91",
        "outputId": "7e00b6eb-bdbf-4eb9-9c31-901bbfd6a0af"
      },
      "id": "51UbLiw99N91",
      "execution_count": 17,
      "outputs": [
        {
          "output_type": "stream",
          "name": "stdout",
          "text": [
            "Accuracy:  0.8311688311688312\n",
            "              precision    recall  f1-score   support\n",
            "\n",
            "           0       0.88      0.87      0.88        53\n",
            "           1       0.72      0.75      0.73        24\n",
            "\n",
            "    accuracy                           0.83        77\n",
            "   macro avg       0.80      0.81      0.81        77\n",
            "weighted avg       0.83      0.83      0.83        77\n",
            "\n"
          ]
        },
        {
          "output_type": "display_data",
          "data": {
            "text/plain": [
              "<Figure size 640x480 with 2 Axes>"
            ],
            "image/png": "[encoded data removed]"
          },
          "metadata": {}
        }
      ]
    },
    {
      "cell_type": "markdown",
      "id": "139540d2",
      "metadata": {
        "id": "139540d2"
      },
      "source": [
        "## İkinci Model (GridSearch, RandomSearch, Bayesian Optimization)"
      ]
    },
    {
      "cell_type": "code",
      "source": [
        "num_priors = 20\n",
        "\n",
        "# Generate priors using a logarithmic range\n",
        "test_priors = np.array([[i / (num_priors - 1), 1 - i / (num_priors - 1)] for i in range(num_priors)])\n",
        "\n",
        "# Print the generated priors\n",
        "print('Priors:')\n",
        "print(test_priors)"
      ],
      "metadata": {
        "colab": {
          "base_uri": "https://localhost:8080/"
        },
        "id": "ezM-HRL8BiPN",
        "outputId": "e9456d49-c411-497d-97a9-0c95542629e4"
      },
      "id": "ezM-HRL8BiPN",
      "execution_count": 52,
      "outputs": [
        {
          "output_type": "stream",
          "name": "stdout",
          "text": [
            "Priors:\n",
            "[[0.         1.        ]\n",
            " [0.05263158 0.94736842]\n",
            " [0.10526316 0.89473684]\n",
            " [0.15789474 0.84210526]\n",
            " [0.21052632 0.78947368]\n",
            " [0.26315789 0.73684211]\n",
            " [0.31578947 0.68421053]\n",
            " [0.36842105 0.63157895]\n",
            " [0.42105263 0.57894737]\n",
            " [0.47368421 0.52631579]\n",
            " [0.52631579 0.47368421]\n",
            " [0.57894737 0.42105263]\n",
            " [0.63157895 0.36842105]\n",
            " [0.68421053 0.31578947]\n",
            " [0.73684211 0.26315789]\n",
            " [0.78947368 0.21052632]\n",
            " [0.84210526 0.15789474]\n",
            " [0.89473684 0.10526316]\n",
            " [0.94736842 0.05263158]\n",
            " [1.         0.        ]]\n"
          ]
        }
      ]
    },
    {
      "cell_type": "code",
      "source": [
        "param_grid_nb = {\n",
        "    'priors': test_priors.tolist(),\n",
        "    'var_smoothing': np.logspace(0,-9, num=200)\n",
        "}"
      ],
      "metadata": {
        "id": "2pItHFVgjqxR"
      },
      "id": "2pItHFVgjqxR",
      "execution_count": 55,
      "outputs": []
    },
    {
      "cell_type": "code",
      "source": [
        "nbModel_grid = GridSearchCV(estimator=GaussianNB(), param_grid=param_grid_nb, verbose=1, cv=10, n_jobs=-1)\n",
        "nbModel_grid.fit(X_train, y_train)\n",
        "print(nbModel_grid.best_estimator_)"
      ],
      "metadata": {
        "id": "qeGLjPd2jmKy",
        "colab": {
          "base_uri": "https://localhost:8080/"
        },
        "outputId": "957a117f-b33d-4acc-cb56-c4f8e3aef3bb"
      },
      "id": "qeGLjPd2jmKy",
      "execution_count": 57,
      "outputs": [
        {
          "output_type": "stream",
          "name": "stdout",
          "text": [
            "Fitting 10 folds for each of 4000 candidates, totalling 40000 fits\n",
            "GaussianNB(priors=[0.6842105263157895, 0.3157894736842105],\n",
            "           var_smoothing=0.0007575250258771912)\n"
          ]
        }
      ]
    },
    {
      "cell_type": "code",
      "source": [
        "priors = nbModel_grid.best_estimator_.priors\n",
        "var_smoothing = nbModel_grid.best_estimator_.var_smoothing"
      ],
      "metadata": {
        "id": "dYWoJU2sAEHl"
      },
      "id": "dYWoJU2sAEHl",
      "execution_count": 58,
      "outputs": []
    },
    {
      "cell_type": "code",
      "source": [
        "gnb2 = GaussianNB(priors=priors, var_smoothing=var_smoothing)"
      ],
      "metadata": {
        "id": "Vg-gxnN0-5ml"
      },
      "id": "Vg-gxnN0-5ml",
      "execution_count": 59,
      "outputs": []
    },
    {
      "cell_type": "code",
      "source": [
        "y_pred2 = gnb2.fit(X_train, y_train).predict(X_test)"
      ],
      "metadata": {
        "id": "pon9d4BlAQqN"
      },
      "id": "pon9d4BlAQqN",
      "execution_count": 60,
      "outputs": []
    },
    {
      "cell_type": "code",
      "source": [
        "print(\"Accuracy: \", accuracy_score(y_test, y_pred2))\n",
        "print(classification_report(y_test, y_pred2))\n",
        "confusion_matrix = metrics.confusion_matrix(y_test, y_pred2)\n",
        "cm_display = metrics.ConfusionMatrixDisplay(confusion_matrix = confusion_matrix)\n",
        "cm_display.plot()\n",
        "plt.show()"
      ],
      "metadata": {
        "colab": {
          "base_uri": "https://localhost:8080/",
          "height": 623
        },
        "id": "wyhmqxaLASj8",
        "outputId": "7c0af3e6-9728-4bdb-b6df-4491a138dcb6"
      },
      "id": "wyhmqxaLASj8",
      "execution_count": 61,
      "outputs": [
        {
          "output_type": "stream",
          "name": "stdout",
          "text": [
            "Accuracy:  0.8441558441558441\n",
            "              precision    recall  f1-score   support\n",
            "\n",
            "           0       0.90      0.87      0.88        53\n",
            "           1       0.73      0.79      0.76        24\n",
            "\n",
            "    accuracy                           0.84        77\n",
            "   macro avg       0.82      0.83      0.82        77\n",
            "weighted avg       0.85      0.84      0.85        77\n",
            "\n"
          ]
        },
        {
          "output_type": "display_data",
          "data": {
            "text/plain": [
              "<Figure size 640x480 with 2 Axes>"
            ],
            "image/png": "[encoded data removed]"
          },
          "metadata": {}
        }
      ]
    },
    {
      "cell_type": "code",
      "source": [
        "nbModel_random = RandomizedSearchCV(\n",
        "    estimator=GaussianNB(),\n",
        "    param_distributions=param_grid_nb,\n",
        "    n_iter=10,\n",
        "    cv=10,\n",
        "    verbose=1,\n",
        "    n_jobs=-1\n",
        ")\n",
        "nbModel_random.fit(X_train, y_train)\n",
        "print(nbModel_random.best_estimator_)"
      ],
      "metadata": {
        "colab": {
          "base_uri": "https://localhost:8080/"
        },
        "id": "PkOOnE53E1ZN",
        "outputId": "2c39ca67-d793-4e63-c7d8-9997564c9728"
      },
      "id": "PkOOnE53E1ZN",
      "execution_count": 69,
      "outputs": [
        {
          "output_type": "stream",
          "name": "stdout",
          "text": [
            "Fitting 10 folds for each of 10 candidates, totalling 100 fits\n",
            "GaussianNB(priors=[0.5789473684210527, 0.42105263157894735],\n",
            "           var_smoothing=2.049074689815846e-08)\n"
          ]
        }
      ]
    },
    {
      "cell_type": "code",
      "source": [
        "priors2 = nbModel_random.best_estimator_.priors\n",
        "var_smoothing2 = nbModel_random.best_estimator_.var_smoothing"
      ],
      "metadata": {
        "id": "WueDTbE6E5y7"
      },
      "id": "WueDTbE6E5y7",
      "execution_count": 70,
      "outputs": []
    },
    {
      "cell_type": "code",
      "source": [
        "gnb3 = GaussianNB(priors=priors2, var_smoothing=var_smoothing2)"
      ],
      "metadata": {
        "id": "DV1xoY6pFZqU"
      },
      "id": "DV1xoY6pFZqU",
      "execution_count": 71,
      "outputs": []
    },
    {
      "cell_type": "code",
      "source": [
        "y_pred3 = gnb3.fit(X_train, y_train).predict(X_test)"
      ],
      "metadata": {
        "id": "B4qC4yqAFa81"
      },
      "id": "B4qC4yqAFa81",
      "execution_count": 72,
      "outputs": []
    },
    {
      "cell_type": "code",
      "source": [
        "print(\"Accuracy: \", accuracy_score(y_test, y_pred3))\n",
        "print(classification_report(y_test, y_pred3))\n",
        "confusion_matrix = metrics.confusion_matrix(y_test, y_pred3)\n",
        "cm_display = metrics.ConfusionMatrixDisplay(confusion_matrix = confusion_matrix)\n",
        "cm_display.plot()\n",
        "plt.show()"
      ],
      "metadata": {
        "colab": {
          "base_uri": "https://localhost:8080/",
          "height": 623
        },
        "id": "_s0gz92FFEf8",
        "outputId": "09248a1d-def8-4a97-8061-3011cc453cfd"
      },
      "id": "_s0gz92FFEf8",
      "execution_count": 73,
      "outputs": [
        {
          "output_type": "stream",
          "name": "stdout",
          "text": [
            "Accuracy:  0.8181818181818182\n",
            "              precision    recall  f1-score   support\n",
            "\n",
            "           0       0.91      0.81      0.86        53\n",
            "           1       0.67      0.83      0.74        24\n",
            "\n",
            "    accuracy                           0.82        77\n",
            "   macro avg       0.79      0.82      0.80        77\n",
            "weighted avg       0.84      0.82      0.82        77\n",
            "\n"
          ]
        },
        {
          "output_type": "display_data",
          "data": {
            "text/plain": [
              "<Figure size 640x480 with 2 Axes>"
            ],
            "image/png": "[encoded data removed]"
          },
          "metadata": {}
        }
      ]
    },
    {
      "cell_type": "markdown",
      "id": "63f4926c",
      "metadata": {
        "id": "63f4926c"
      },
      "source": [
        "## Üçüncü Model (Data Manipulation)"
      ]
    },
    {
      "cell_type": "code",
      "source": [
        "standard_scaler = StandardScaler()\n",
        "X_scaled = standard_scaler.fit_transform(X)"
      ],
      "metadata": {
        "id": "O9XQF04KOWQ0"
      },
      "id": "O9XQF04KOWQ0",
      "execution_count": 118,
      "outputs": []
    },
    {
      "cell_type": "code",
      "source": [
        "X_train1, X_test1, y_train1, y_test1 = train_test_split(X_scaled, y, test_size=0.10)"
      ],
      "metadata": {
        "id": "dxHLNHF8NVmE"
      },
      "id": "dxHLNHF8NVmE",
      "execution_count": 113,
      "outputs": []
    },
    {
      "cell_type": "code",
      "source": [
        "gnb4 = GaussianNB(priors=priors, var_smoothing=var_smoothing)"
      ],
      "metadata": {
        "id": "ReCzAP2yNiX0"
      },
      "id": "ReCzAP2yNiX0",
      "execution_count": 146,
      "outputs": []
    },
    {
      "cell_type": "code",
      "source": [
        "y_pred4 = gnb4.fit(X_train1, y_train1).predict(X_test1)"
      ],
      "metadata": {
        "id": "4FexWBJ4NqM8"
      },
      "id": "4FexWBJ4NqM8",
      "execution_count": 147,
      "outputs": []
    },
    {
      "cell_type": "code",
      "source": [
        "print(\"Accuracy: \", accuracy_score(y_test1, y_pred4))\n",
        "print(classification_report(y_test1, y_pred4))\n",
        "confusion_matrix = metrics.confusion_matrix(y_test1, y_pred4)\n",
        "cm_display = metrics.ConfusionMatrixDisplay(confusion_matrix = confusion_matrix)\n",
        "cm_display.plot()\n",
        "plt.show()"
      ],
      "metadata": {
        "colab": {
          "base_uri": "https://localhost:8080/",
          "height": 629
        },
        "id": "w8xnOnWjNk-Y",
        "outputId": "828b4171-e8e6-44ae-8de1-d538d373cd2f"
      },
      "id": "w8xnOnWjNk-Y",
      "execution_count": 148,
      "outputs": [
        {
          "output_type": "stream",
          "name": "stdout",
          "text": [
            "Accuracy:  0.7532467532467533\n",
            "              precision    recall  f1-score   support\n",
            "\n",
            "           0       0.77      0.85      0.81        47\n",
            "           1       0.72      0.60      0.65        30\n",
            "\n",
            "    accuracy                           0.75        77\n",
            "   macro avg       0.74      0.73      0.73        77\n",
            "weighted avg       0.75      0.75      0.75        77\n",
            "\n"
          ]
        },
        {
          "output_type": "display_data",
          "data": {
            "text/plain": [
              "<Figure size 640x480 with 2 Axes>"
            ],
            "image/png": "[encoded data removed]"
          },
          "metadata": {}
        }
      ]
    },
    {
      "cell_type": "code",
      "source": [
        "min_max_scaler = MinMaxScaler()\n",
        "X_scaled1 = min_max_scaler.fit_transform(X)"
      ],
      "metadata": {
        "id": "6xMLrq61RIhs"
      },
      "id": "6xMLrq61RIhs",
      "execution_count": 119,
      "outputs": []
    },
    {
      "cell_type": "code",
      "source": [
        "X_train2, X_test2, y_train2, y_test2 = train_test_split(X_scaled1, y, test_size=0.10)"
      ],
      "metadata": {
        "id": "7WzwSXBERIfy"
      },
      "id": "7WzwSXBERIfy",
      "execution_count": 120,
      "outputs": []
    },
    {
      "cell_type": "code",
      "source": [
        "gnb5 = GaussianNB(priors=priors, var_smoothing=var_smoothing)"
      ],
      "metadata": {
        "id": "3ikCdK0HRIdC"
      },
      "id": "3ikCdK0HRIdC",
      "execution_count": 121,
      "outputs": []
    },
    {
      "cell_type": "code",
      "source": [
        "y_pred5 = gnb5.fit(X_train2, y_train2).predict(X_test2)"
      ],
      "metadata": {
        "id": "wWn5prmLNk70"
      },
      "id": "wWn5prmLNk70",
      "execution_count": 122,
      "outputs": []
    },
    {
      "cell_type": "code",
      "source": [
        "print(\"Accuracy: \", accuracy_score(y_test2, y_pred5))\n",
        "print(classification_report(y_test2, y_pred5))\n",
        "confusion_matrix = metrics.confusion_matrix(y_test2, y_pred5)\n",
        "cm_display = metrics.ConfusionMatrixDisplay(confusion_matrix = confusion_matrix)\n",
        "cm_display.plot()\n",
        "plt.show()"
      ],
      "metadata": {
        "colab": {
          "base_uri": "https://localhost:8080/",
          "height": 623
        },
        "id": "v0v3sYDGRTks",
        "outputId": "2599bf20-65ea-44ce-af81-d7579d49a348"
      },
      "id": "v0v3sYDGRTks",
      "execution_count": 123,
      "outputs": [
        {
          "output_type": "stream",
          "name": "stdout",
          "text": [
            "Accuracy:  0.7402597402597403\n",
            "              precision    recall  f1-score   support\n",
            "\n",
            "           0       0.80      0.80      0.80        49\n",
            "           1       0.64      0.64      0.64        28\n",
            "\n",
            "    accuracy                           0.74        77\n",
            "   macro avg       0.72      0.72      0.72        77\n",
            "weighted avg       0.74      0.74      0.74        77\n",
            "\n"
          ]
        },
        {
          "output_type": "display_data",
          "data": {
            "text/plain": [
              "<Figure size 640x480 with 2 Axes>"
            ],
            "image/png": "[encoded data removed]"
          },
          "metadata": {}
        }
      ]
    }
  ],
  "metadata": {
    "kernelspec": {
      "display_name": "Python 3 (ipykernel)",
      "language": "python",
      "name": "python3"
    },
    "language_info": {
      "codemirror_mode": {
        "name": "ipython",
        "version": 3
      },
      "file_extension": ".py",
      "mimetype": "text/x-python",
      "name": "python",
      "nbconvert_exporter": "python",
      "pygments_lexer": "ipython3",
      "version": "3.9.7"
    },
    "colab": {
      "provenance": [],
      "collapsed_sections": [
        "K-CnKQqxVVkS",
        "27a5cddd",
        "19f8683e",
        "139540d2"
      ]
    }
  },
  "nbformat": 4,
  "nbformat_minor": 5
}