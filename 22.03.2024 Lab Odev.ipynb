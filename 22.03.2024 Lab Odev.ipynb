{
 "cells": [
  {
   "cell_type": "code",
   "execution_count": 223,
   "id": "e05dafb2",
   "metadata": {},
   "outputs": [],
   "source": [
    "import numpy as np\n",
    "import pandas as pd\n",
    "from sklearn.preprocessing import LabelEncoder"
   ]
  },
  {
   "cell_type": "code",
   "execution_count": 268,
   "id": "53f1a5e8",
   "metadata": {},
   "outputs": [],
   "source": [
    "data = {\n",
    "        'year': [2018, 2015, 2020, 2012],\n",
    "        'km': [50000, 80000, 20000, 120000],\n",
    "        'engine_size': [1.6, 2.0, 1.8, 1.4],\n",
    "        'brand': ['Toyota', 'Honda', 'Volkswagen', 'Ford'],\n",
    "        'price': [120000, 90000, 150000, 60000]\n",
    "}"
   ]
  },
  {
   "cell_type": "code",
   "execution_count": 269,
   "id": "c19b8348",
   "metadata": {},
   "outputs": [],
   "source": [
    "def normalize(data):\n",
    "    data_numpy = np.asarray(data)\n",
    "    std_dist = (data - data_numpy.mean()) / data_numpy.std()\n",
    "    return np.asarray(std_dist, dtype=np.float32)"
   ]
  },
  {
   "cell_type": "code",
   "execution_count": 270,
   "id": "c727ccc8",
   "metadata": {},
   "outputs": [],
   "source": [
    "le = LabelEncoder()"
   ]
  },
  {
   "cell_type": "code",
   "execution_count": 271,
   "id": "239a0916",
   "metadata": {},
   "outputs": [
    {
     "data": {
      "text/plain": [
       "array([2., 1., 3., 0.], dtype=float32)"
      ]
     },
     "execution_count": 271,
     "metadata": {},
     "output_type": "execute_result"
    }
   ],
   "source": [
    "data['brand'] = le.fit_transform(data['brand']).astype(np.float32)\n",
    "data['brand']"
   ]
  },
  {
   "cell_type": "code",
   "execution_count": 272,
   "id": "be6e373e",
   "metadata": {},
   "outputs": [
    {
     "data": {
      "text/plain": [
       "array([ 0.57735026, -0.41239306,  1.2371792 , -1.4021363 ], dtype=float32)"
      ]
     },
     "execution_count": 272,
     "metadata": {},
     "output_type": "execute_result"
    }
   ],
   "source": [
    "data['year'] = normalize(data['year'])\n",
    "data['year']"
   ]
  },
  {
   "cell_type": "code",
   "execution_count": 273,
   "id": "4def00d1",
   "metadata": {},
   "outputs": [
    {
     "data": {
      "text/plain": [
       "array([-0.47301617,  0.3378687 , -1.283901  ,  1.4190485 ], dtype=float32)"
      ]
     },
     "execution_count": 273,
     "metadata": {},
     "output_type": "execute_result"
    }
   ],
   "source": [
    "data['km'] = normalize(data['km'])\n",
    "data['km']"
   ]
  },
  {
   "cell_type": "code",
   "execution_count": 274,
   "id": "f787e43c",
   "metadata": {},
   "outputs": [
    {
     "data": {
      "text/plain": [
       "array([-0.4472136,  1.3416408,  0.4472136, -1.3416408], dtype=float32)"
      ]
     },
     "execution_count": 274,
     "metadata": {},
     "output_type": "execute_result"
    }
   ],
   "source": [
    "data['engine_size'] = normalize(data['engine_size'])\n",
    "data['engine_size']"
   ]
  },
  {
   "cell_type": "code",
   "execution_count": 275,
   "id": "fdae502f",
   "metadata": {},
   "outputs": [
    {
     "data": {
      "text/plain": [
       "array([ 0.4472136, -0.4472136,  1.3416408, -1.3416408], dtype=float32)"
      ]
     },
     "execution_count": 275,
     "metadata": {},
     "output_type": "execute_result"
    }
   ],
   "source": [
    "data['price'] = normalize(data['price'])\n",
    "data['price']"
   ]
  },
  {
   "cell_type": "code",
   "execution_count": 276,
   "id": "5e053bdf",
   "metadata": {},
   "outputs": [
    {
     "data": {
      "text/html": [
       "<div>\n",
       "<style scoped>\n",
       "    .dataframe tbody tr th:only-of-type {\n",
       "        vertical-align: middle;\n",
       "    }\n",
       "\n",
       "    .dataframe tbody tr th {\n",
       "        vertical-align: top;\n",
       "    }\n",
       "\n",
       "    .dataframe thead th {\n",
       "        text-align: right;\n",
       "    }\n",
       "</style>\n",
       "<table border=\"1\" class=\"dataframe\">\n",
       "  <thead>\n",
       "    <tr style=\"text-align: right;\">\n",
       "      <th></th>\n",
       "      <th>year</th>\n",
       "      <th>km</th>\n",
       "      <th>engine_size</th>\n",
       "      <th>brand</th>\n",
       "      <th>price</th>\n",
       "    </tr>\n",
       "  </thead>\n",
       "  <tbody>\n",
       "    <tr>\n",
       "      <th>0</th>\n",
       "      <td>0.577350</td>\n",
       "      <td>-0.473016</td>\n",
       "      <td>-0.447214</td>\n",
       "      <td>2.0</td>\n",
       "      <td>0.447214</td>\n",
       "    </tr>\n",
       "    <tr>\n",
       "      <th>1</th>\n",
       "      <td>-0.412393</td>\n",
       "      <td>0.337869</td>\n",
       "      <td>1.341641</td>\n",
       "      <td>1.0</td>\n",
       "      <td>-0.447214</td>\n",
       "    </tr>\n",
       "    <tr>\n",
       "      <th>2</th>\n",
       "      <td>1.237179</td>\n",
       "      <td>-1.283901</td>\n",
       "      <td>0.447214</td>\n",
       "      <td>3.0</td>\n",
       "      <td>1.341641</td>\n",
       "    </tr>\n",
       "    <tr>\n",
       "      <th>3</th>\n",
       "      <td>-1.402136</td>\n",
       "      <td>1.419049</td>\n",
       "      <td>-1.341641</td>\n",
       "      <td>0.0</td>\n",
       "      <td>-1.341641</td>\n",
       "    </tr>\n",
       "  </tbody>\n",
       "</table>\n",
       "</div>"
      ],
      "text/plain": [
       "       year        km  engine_size  brand     price\n",
       "0  0.577350 -0.473016    -0.447214    2.0  0.447214\n",
       "1 -0.412393  0.337869     1.341641    1.0 -0.447214\n",
       "2  1.237179 -1.283901     0.447214    3.0  1.341641\n",
       "3 -1.402136  1.419049    -1.341641    0.0 -1.341641"
      ]
     },
     "execution_count": 276,
     "metadata": {},
     "output_type": "execute_result"
    }
   ],
   "source": [
    "df = pd.DataFrame(data)\n",
    "df"
   ]
  },
  {
   "cell_type": "code",
   "execution_count": 277,
   "id": "a4ca9acd",
   "metadata": {},
   "outputs": [
    {
     "data": {
      "text/html": [
       "<div>\n",
       "<style scoped>\n",
       "    .dataframe tbody tr th:only-of-type {\n",
       "        vertical-align: middle;\n",
       "    }\n",
       "\n",
       "    .dataframe tbody tr th {\n",
       "        vertical-align: top;\n",
       "    }\n",
       "\n",
       "    .dataframe thead th {\n",
       "        text-align: right;\n",
       "    }\n",
       "</style>\n",
       "<table border=\"1\" class=\"dataframe\">\n",
       "  <thead>\n",
       "    <tr style=\"text-align: right;\">\n",
       "      <th></th>\n",
       "      <th>year</th>\n",
       "      <th>km</th>\n",
       "      <th>engine_size</th>\n",
       "      <th>brand</th>\n",
       "    </tr>\n",
       "  </thead>\n",
       "  <tbody>\n",
       "    <tr>\n",
       "      <th>0</th>\n",
       "      <td>0.577350</td>\n",
       "      <td>-0.473016</td>\n",
       "      <td>-0.447214</td>\n",
       "      <td>2.0</td>\n",
       "    </tr>\n",
       "    <tr>\n",
       "      <th>1</th>\n",
       "      <td>-0.412393</td>\n",
       "      <td>0.337869</td>\n",
       "      <td>1.341641</td>\n",
       "      <td>1.0</td>\n",
       "    </tr>\n",
       "    <tr>\n",
       "      <th>2</th>\n",
       "      <td>1.237179</td>\n",
       "      <td>-1.283901</td>\n",
       "      <td>0.447214</td>\n",
       "      <td>3.0</td>\n",
       "    </tr>\n",
       "    <tr>\n",
       "      <th>3</th>\n",
       "      <td>-1.402136</td>\n",
       "      <td>1.419049</td>\n",
       "      <td>-1.341641</td>\n",
       "      <td>0.0</td>\n",
       "    </tr>\n",
       "  </tbody>\n",
       "</table>\n",
       "</div>"
      ],
      "text/plain": [
       "       year        km  engine_size  brand\n",
       "0  0.577350 -0.473016    -0.447214    2.0\n",
       "1 -0.412393  0.337869     1.341641    1.0\n",
       "2  1.237179 -1.283901     0.447214    3.0\n",
       "3 -1.402136  1.419049    -1.341641    0.0"
      ]
     },
     "execution_count": 277,
     "metadata": {},
     "output_type": "execute_result"
    }
   ],
   "source": [
    "X = df.drop(['price'], axis=1)\n",
    "X"
   ]
  },
  {
   "cell_type": "code",
   "execution_count": 278,
   "id": "6f485412",
   "metadata": {},
   "outputs": [
    {
     "data": {
      "text/plain": [
       "0    0.447214\n",
       "1   -0.447214\n",
       "2    1.341641\n",
       "3   -1.341641\n",
       "Name: price, dtype: float32"
      ]
     },
     "execution_count": 278,
     "metadata": {},
     "output_type": "execute_result"
    }
   ],
   "source": [
    "y = df['price']\n",
    "y"
   ]
  },
  {
   "cell_type": "code",
   "execution_count": 279,
   "id": "9dbff800",
   "metadata": {},
   "outputs": [],
   "source": [
    "X_train, X_test, y_train, y_test = X.iloc[:3], X.iloc[3:], y.iloc[:3], y.iloc[3:]"
   ]
  },
  {
   "cell_type": "code",
   "execution_count": 280,
   "id": "1c550176",
   "metadata": {},
   "outputs": [
    {
     "data": {
      "text/plain": [
       "array([[ 0.57735026, -0.47301617, -0.4472136 ,  2.        ],\n",
       "       [-0.41239306,  0.3378687 ,  1.3416408 ,  1.        ],\n",
       "       [ 1.2371792 , -1.283901  ,  0.4472136 ,  3.        ]],\n",
       "      dtype=float32)"
      ]
     },
     "execution_count": 280,
     "metadata": {},
     "output_type": "execute_result"
    }
   ],
   "source": [
    "X_train = np.asarray(X_train).astype(np.float32)\n",
    "X_train"
   ]
  },
  {
   "cell_type": "code",
   "execution_count": 281,
   "id": "418d7a56",
   "metadata": {},
   "outputs": [
    {
     "data": {
      "text/plain": [
       "array([[-1.4021363,  1.4190485, -1.3416408,  0.       ]], dtype=float32)"
      ]
     },
     "execution_count": 281,
     "metadata": {},
     "output_type": "execute_result"
    }
   ],
   "source": [
    "X_test = np.asarray(X_test).astype(np.float32)\n",
    "X_test"
   ]
  },
  {
   "cell_type": "code",
   "execution_count": 282,
   "id": "717cd42a",
   "metadata": {},
   "outputs": [
    {
     "data": {
      "text/plain": [
       "array([ 0.4472136, -0.4472136,  1.3416408], dtype=float32)"
      ]
     },
     "execution_count": 282,
     "metadata": {},
     "output_type": "execute_result"
    }
   ],
   "source": [
    "y_train = np.asarray(y_train).astype(np.float32)\n",
    "y_train"
   ]
  },
  {
   "cell_type": "code",
   "execution_count": 283,
   "id": "d4d9c1b1",
   "metadata": {},
   "outputs": [
    {
     "data": {
      "text/plain": [
       "array([-1.3416408], dtype=float32)"
      ]
     },
     "execution_count": 283,
     "metadata": {},
     "output_type": "execute_result"
    }
   ],
   "source": [
    "y_test = np.asarray(y_test).astype(np.float32)\n",
    "y_test"
   ]
  },
  {
   "cell_type": "code",
   "execution_count": 284,
   "id": "e3845454",
   "metadata": {},
   "outputs": [],
   "source": [
    "W = np.random.randn(X_train.shape[1])\n",
    "b = 0."
   ]
  },
  {
   "cell_type": "code",
   "execution_count": 285,
   "id": "9acd0251",
   "metadata": {},
   "outputs": [
    {
     "data": {
      "text/plain": [
       "array([ 0.05380524, -1.04861178,  0.55109352, -1.23496957])"
      ]
     },
     "execution_count": 285,
     "metadata": {},
     "output_type": "execute_result"
    }
   ],
   "source": [
    "W"
   ]
  },
  {
   "cell_type": "code",
   "execution_count": 286,
   "id": "ca753373",
   "metadata": {},
   "outputs": [
    {
     "data": {
      "text/plain": [
       "0.0"
      ]
     },
     "execution_count": 286,
     "metadata": {},
     "output_type": "execute_result"
    }
   ],
   "source": [
    "b"
   ]
  },
  {
   "cell_type": "code",
   "execution_count": 287,
   "id": "459ce276",
   "metadata": {},
   "outputs": [],
   "source": [
    "def cost(X, y, W, b): \n",
    "    m = X.shape[0]\n",
    "    cost = 0.\n",
    "    for i in range(m):\n",
    "        prediction = np.dot(X[i], W) + b\n",
    "        cost += (prediction - y[i]) ** 2\n",
    "    return cost / (2*m)"
   ]
  },
  {
   "cell_type": "code",
   "execution_count": 288,
   "id": "18bc872b",
   "metadata": {},
   "outputs": [
    {
     "data": {
      "text/plain": [
       "3.100839408098238"
      ]
     },
     "execution_count": 288,
     "metadata": {},
     "output_type": "execute_result"
    }
   ],
   "source": [
    "cost(X_train, y_train, W, b)"
   ]
  },
  {
   "cell_type": "code",
   "execution_count": 289,
   "id": "526d1617",
   "metadata": {},
   "outputs": [
    {
     "data": {
      "text/plain": [
       "0.4619546866924804"
      ]
     },
     "execution_count": 289,
     "metadata": {},
     "output_type": "execute_result"
    }
   ],
   "source": [
    "cost_of_test_before_training = cost(X_test, y_test, W, b)\n",
    "cost_of_test_before_training"
   ]
  },
  {
   "cell_type": "code",
   "execution_count": 290,
   "id": "004562ac",
   "metadata": {},
   "outputs": [],
   "source": [
    "def gradient(X, y, W, b): \n",
    "    m, n = X.shape\n",
    "    derivative_w = np.zeros((n,))\n",
    "    derivative_b = 0\n",
    "    for i in range(m):\n",
    "        predictions = (np.dot(X[i], W) + b) - y[i]\n",
    "        for j in range(n):\n",
    "            derivative_w[j] += predictions * X[i, j]    \n",
    "        derivative_b += predictions\n",
    "    return derivative_w / m, derivative_b / m"
   ]
  },
  {
   "cell_type": "code",
   "execution_count": 291,
   "id": "6233091b",
   "metadata": {},
   "outputs": [
    {
     "data": {
      "text/plain": [
       "(array([-1.84585998,  1.8174731 , -0.30191143, -5.28652506]),\n",
       " -2.1495384941026376)"
      ]
     },
     "execution_count": 291,
     "metadata": {},
     "output_type": "execute_result"
    }
   ],
   "source": [
    "gradient(X_train, y_train, W, b)"
   ]
  },
  {
   "cell_type": "code",
   "execution_count": 292,
   "id": "3dc2128b",
   "metadata": {},
   "outputs": [],
   "source": [
    "def gradient_descent(X, y, W, b, cost_function, gradient_function, alpha, num_iters): \n",
    "    m, n = X.shape\n",
    "    for i in range(num_iters):\n",
    "        derivative_w, derivative_b = gradient_function(X, y, W, b)  \n",
    "        W = W - alpha * derivative_w               \n",
    "        b = b - alpha * derivative_b               \n",
    "        cost =  np.sum(cost_function(X, y, W, b))\n",
    "        if i % (num_iters / 10) == 0:\n",
    "            print(f\"Iteration {i:4}: Cost {float(cost):8.2f}   \")\n",
    "    print(f\"Iteration {num_iters:4}: Cost {float(cost):8.2f}   \")\n",
    "    return W, b"
   ]
  },
  {
   "cell_type": "code",
   "execution_count": 293,
   "id": "6f74886a",
   "metadata": {},
   "outputs": [],
   "source": [
    "alpha = 0.01\n",
    "iterations = 100"
   ]
  },
  {
   "cell_type": "code",
   "execution_count": 294,
   "id": "52cdcb47",
   "metadata": {},
   "outputs": [
    {
     "name": "stdout",
     "output_type": "stream",
     "text": [
      "Iteration    0: Cost     2.72   \n",
      "Iteration   10: Cost     0.77   \n",
      "Iteration   20: Cost     0.25   \n",
      "Iteration   30: Cost     0.11   \n",
      "Iteration   40: Cost     0.07   \n",
      "Iteration   50: Cost     0.05   \n",
      "Iteration   60: Cost     0.04   \n",
      "Iteration   70: Cost     0.04   \n",
      "Iteration   80: Cost     0.03   \n",
      "Iteration   90: Cost     0.03   \n",
      "Iteration  100: Cost     0.03   \n"
     ]
    }
   ],
   "source": [
    "W, b = gradient_descent(X_train, y_train, W, b, cost, gradient, alpha, iterations)"
   ]
  },
  {
   "cell_type": "code",
   "execution_count": 295,
   "id": "975866a9",
   "metadata": {},
   "outputs": [],
   "source": [
    "alpha = 0.015"
   ]
  },
  {
   "cell_type": "code",
   "execution_count": 296,
   "id": "9a67d6ad",
   "metadata": {},
   "outputs": [
    {
     "name": "stdout",
     "output_type": "stream",
     "text": [
      "Iteration    0: Cost     0.03   \n",
      "Iteration   10: Cost     0.02   \n",
      "Iteration   20: Cost     0.02   \n",
      "Iteration   30: Cost     0.02   \n",
      "Iteration   40: Cost     0.01   \n",
      "Iteration   50: Cost     0.01   \n",
      "Iteration   60: Cost     0.01   \n",
      "Iteration   70: Cost     0.01   \n",
      "Iteration   80: Cost     0.01   \n",
      "Iteration   90: Cost     0.01   \n",
      "Iteration  100: Cost     0.01   \n"
     ]
    }
   ],
   "source": [
    "W, b = gradient_descent(X_train, y_train, W, b, cost, gradient, alpha, iterations)"
   ]
  },
  {
   "cell_type": "code",
   "execution_count": 297,
   "id": "3d3d998b",
   "metadata": {},
   "outputs": [],
   "source": [
    "alpha = 0.02"
   ]
  },
  {
   "cell_type": "code",
   "execution_count": 298,
   "id": "a8633b20",
   "metadata": {},
   "outputs": [
    {
     "name": "stdout",
     "output_type": "stream",
     "text": [
      "Iteration    0: Cost     0.01   \n",
      "Iteration   10: Cost     0.01   \n",
      "Iteration   20: Cost     0.01   \n",
      "Iteration   30: Cost     0.01   \n",
      "Iteration   40: Cost     0.01   \n",
      "Iteration   50: Cost     0.01   \n",
      "Iteration   60: Cost     0.00   \n",
      "Iteration   70: Cost     0.00   \n",
      "Iteration   80: Cost     0.00   \n",
      "Iteration   90: Cost     0.00   \n",
      "Iteration  100: Cost     0.00   \n"
     ]
    }
   ],
   "source": [
    "W, b = gradient_descent(X_train, y_train, W, b, cost, gradient, alpha, iterations)"
   ]
  },
  {
   "cell_type": "code",
   "execution_count": 299,
   "id": "9c1d1b80",
   "metadata": {},
   "outputs": [],
   "source": [
    "alpha = 0.025"
   ]
  },
  {
   "cell_type": "code",
   "execution_count": 300,
   "id": "0993dc90",
   "metadata": {},
   "outputs": [
    {
     "name": "stdout",
     "output_type": "stream",
     "text": [
      "Iteration    0: Cost     0.00   \n",
      "Iteration   10: Cost     0.00   \n",
      "Iteration   20: Cost     0.00   \n",
      "Iteration   30: Cost     0.00   \n",
      "Iteration   40: Cost     0.00   \n",
      "Iteration   50: Cost     0.00   \n",
      "Iteration   60: Cost     0.00   \n",
      "Iteration   70: Cost     0.00   \n",
      "Iteration   80: Cost     0.00   \n",
      "Iteration   90: Cost     0.00   \n",
      "Iteration  100: Cost     0.00   \n"
     ]
    }
   ],
   "source": [
    "W, b = gradient_descent(X_train, y_train, W, b, cost, gradient, alpha, iterations)"
   ]
  },
  {
   "cell_type": "code",
   "execution_count": 301,
   "id": "082432e7",
   "metadata": {},
   "outputs": [
    {
     "data": {
      "text/plain": [
       "array([ 0.37729279, -1.30459183,  0.11865622, -0.39161015])"
      ]
     },
     "execution_count": 301,
     "metadata": {},
     "output_type": "execute_result"
    }
   ],
   "source": [
    "W"
   ]
  },
  {
   "cell_type": "code",
   "execution_count": 302,
   "id": "da7bd8d4",
   "metadata": {},
   "outputs": [
    {
     "data": {
      "text/plain": [
       "0.3724796645377259"
      ]
     },
     "execution_count": 302,
     "metadata": {},
     "output_type": "execute_result"
    }
   ],
   "source": [
    "b"
   ]
  },
  {
   "cell_type": "code",
   "execution_count": 303,
   "id": "45a4b451",
   "metadata": {},
   "outputs": [
    {
     "data": {
      "text/plain": [
       "0.001409306609720367"
      ]
     },
     "execution_count": 303,
     "metadata": {},
     "output_type": "execute_result"
    }
   ],
   "source": [
    "cost(X_train, y_train, W, b)"
   ]
  },
  {
   "cell_type": "code",
   "execution_count": 304,
   "id": "326321a5",
   "metadata": {},
   "outputs": [
    {
     "data": {
      "text/plain": [
       "0.3406166617187846"
      ]
     },
     "execution_count": 304,
     "metadata": {},
     "output_type": "execute_result"
    }
   ],
   "source": [
    "cost_of_test_after_training = cost(X_test, y_test, W, b)\n",
    "cost_of_test_after_training"
   ]
  },
  {
   "cell_type": "code",
   "execution_count": 305,
   "id": "bf3f7af9",
   "metadata": {},
   "outputs": [
    {
     "name": "stdout",
     "output_type": "stream",
     "text": [
      "Cost before training:  0.4619546866924804\n",
      "Cost after training:  0.3406166617187846\n",
      "Diff:  0.12133802497369583\n"
     ]
    }
   ],
   "source": [
    "print(\"Cost before training: \", cost_of_test_before_training)\n",
    "print(\"Cost after training: \", cost_of_test_after_training)\n",
    "print(\"Diff: \", cost_of_test_before_training - cost_of_test_after_training)"
   ]
  },
  {
   "cell_type": "code",
   "execution_count": 306,
   "id": "6ba07790",
   "metadata": {},
   "outputs": [],
   "source": [
    "def predict(X, W, b):\n",
    "    return (np.dot(X, W) + b).astype(np.float32)"
   ]
  },
  {
   "cell_type": "code",
   "execution_count": 307,
   "id": "7dc04384",
   "metadata": {},
   "outputs": [
    {
     "data": {
      "text/plain": [
       "array([-2.1670094], dtype=float32)"
      ]
     },
     "execution_count": 307,
     "metadata": {},
     "output_type": "execute_result"
    }
   ],
   "source": [
    "y_pred = predict(X_test, W, b)\n",
    "y_pred"
   ]
  },
  {
   "cell_type": "code",
   "execution_count": 308,
   "id": "376976c1",
   "metadata": {},
   "outputs": [
    {
     "data": {
      "text/plain": [
       "array([-1.3416408], dtype=float32)"
      ]
     },
     "execution_count": 308,
     "metadata": {},
     "output_type": "execute_result"
    }
   ],
   "source": [
    "y_test"
   ]
  },
  {
   "cell_type": "code",
   "execution_count": 312,
   "id": "bc700c38",
   "metadata": {},
   "outputs": [],
   "source": [
    "def accuracy(y, y_pred):\n",
    "    diff = np.absolute(y - y_pred)\n",
    "    return np.absolute(diff / y) * 100"
   ]
  },
  {
   "cell_type": "code",
   "execution_count": 313,
   "id": "0a63accd",
   "metadata": {},
   "outputs": [
    {
     "data": {
      "text/plain": [
       "array([61.519337], dtype=float32)"
      ]
     },
     "execution_count": 313,
     "metadata": {},
     "output_type": "execute_result"
    }
   ],
   "source": [
    "acc = accuracy(y_test, y_pred)\n",
    "acc"
   ]
  },
  {
   "cell_type": "code",
   "execution_count": 314,
   "id": "875c92e3",
   "metadata": {},
   "outputs": [
    {
     "name": "stdout",
     "output_type": "stream",
     "text": [
      "Model accuracy is:  61.519337\n"
     ]
    }
   ],
   "source": [
    "print(\"Model accuracy is: \", acc[0])"
   ]
  }
 ],
 "metadata": {
  "kernelspec": {
   "display_name": "Python 3 (ipykernel)",
   "language": "python",
   "name": "python3"
  },
  "language_info": {
   "codemirror_mode": {
    "name": "ipython",
    "version": 3
   },
   "file_extension": ".py",
   "mimetype": "text/x-python",
   "name": "python",
   "nbconvert_exporter": "python",
   "pygments_lexer": "ipython3",
   "version": "3.11.5"
  }
 },
 "nbformat": 4,
 "nbformat_minor": 5
}
