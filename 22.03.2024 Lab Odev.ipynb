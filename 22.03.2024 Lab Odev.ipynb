{
 "cells": [
  {
   "cell_type": "code",
   "execution_count": 1,
   "id": "e05dafb2",
   "metadata": {},
   "outputs": [],
   "source": [
    "import numpy as np\n",
    "import pandas as pd\n",
    "from sklearn.preprocessing import LabelEncoder"
   ]
  },
  {
   "cell_type": "code",
   "execution_count": 2,
   "id": "53f1a5e8",
   "metadata": {},
   "outputs": [],
   "source": [
    "data = {\n",
    "        'year': [2018, 2015, 2020, 2012],\n",
    "        'km': [50000, 80000, 20000, 120000],\n",
    "        'engine_size': [1.6, 2.0, 1.8, 1.4],\n",
    "        'brand': ['Toyota', 'Honda', 'Volkswagen', 'Ford'],\n",
    "        'price': [120000, 90000, 150000, 60000]\n",
    "}"
   ]
  },
  {
   "cell_type": "code",
   "execution_count": 3,
   "id": "c19b8348",
   "metadata": {},
   "outputs": [],
   "source": [
    "def normalize(data):\n",
    "    data_numpy = np.asarray(data)\n",
    "    std_dist = (data - data_numpy.mean()) / data_numpy.std()\n",
    "    return np.asarray(std_dist, dtype=np.float32)"
   ]
  },
  {
   "cell_type": "code",
   "execution_count": 4,
   "id": "c727ccc8",
   "metadata": {},
   "outputs": [],
   "source": [
    "le = LabelEncoder()"
   ]
  },
  {
   "cell_type": "code",
   "execution_count": 5,
   "id": "239a0916",
   "metadata": {},
   "outputs": [
    {
     "data": {
      "text/plain": [
       "array([2., 1., 3., 0.], dtype=float32)"
      ]
     },
     "execution_count": 5,
     "metadata": {},
     "output_type": "execute_result"
    }
   ],
   "source": [
    "data['brand'] = le.fit_transform(data['brand']).astype(np.float32)\n",
    "data['brand']"
   ]
  },
  {
   "cell_type": "code",
   "execution_count": 6,
   "id": "be6e373e",
   "metadata": {},
   "outputs": [
    {
     "data": {
      "text/plain": [
       "array([ 0.57735026, -0.41239306,  1.2371792 , -1.4021363 ], dtype=float32)"
      ]
     },
     "execution_count": 6,
     "metadata": {},
     "output_type": "execute_result"
    }
   ],
   "source": [
    "data['year'] = normalize(data['year'])\n",
    "data['year']"
   ]
  },
  {
   "cell_type": "code",
   "execution_count": 7,
   "id": "4def00d1",
   "metadata": {},
   "outputs": [
    {
     "data": {
      "text/plain": [
       "array([-0.47301617,  0.3378687 , -1.283901  ,  1.4190485 ], dtype=float32)"
      ]
     },
     "execution_count": 7,
     "metadata": {},
     "output_type": "execute_result"
    }
   ],
   "source": [
    "data['km'] = normalize(data['km'])\n",
    "data['km']"
   ]
  },
  {
   "cell_type": "code",
   "execution_count": 8,
   "id": "f787e43c",
   "metadata": {},
   "outputs": [
    {
     "data": {
      "text/plain": [
       "array([-0.4472136,  1.3416408,  0.4472136, -1.3416408], dtype=float32)"
      ]
     },
     "execution_count": 8,
     "metadata": {},
     "output_type": "execute_result"
    }
   ],
   "source": [
    "data['engine_size'] = normalize(data['engine_size'])\n",
    "data['engine_size']"
   ]
  },
  {
   "cell_type": "code",
   "execution_count": 9,
   "id": "5e053bdf",
   "metadata": {},
   "outputs": [
    {
     "data": {
      "text/html": [
       "<div>\n",
       "<style scoped>\n",
       "    .dataframe tbody tr th:only-of-type {\n",
       "        vertical-align: middle;\n",
       "    }\n",
       "\n",
       "    .dataframe tbody tr th {\n",
       "        vertical-align: top;\n",
       "    }\n",
       "\n",
       "    .dataframe thead th {\n",
       "        text-align: right;\n",
       "    }\n",
       "</style>\n",
       "<table border=\"1\" class=\"dataframe\">\n",
       "  <thead>\n",
       "    <tr style=\"text-align: right;\">\n",
       "      <th></th>\n",
       "      <th>year</th>\n",
       "      <th>km</th>\n",
       "      <th>engine_size</th>\n",
       "      <th>brand</th>\n",
       "      <th>price</th>\n",
       "    </tr>\n",
       "  </thead>\n",
       "  <tbody>\n",
       "    <tr>\n",
       "      <th>0</th>\n",
       "      <td>0.577350</td>\n",
       "      <td>-0.473016</td>\n",
       "      <td>-0.447214</td>\n",
       "      <td>2.0</td>\n",
       "      <td>120000</td>\n",
       "    </tr>\n",
       "    <tr>\n",
       "      <th>1</th>\n",
       "      <td>-0.412393</td>\n",
       "      <td>0.337869</td>\n",
       "      <td>1.341641</td>\n",
       "      <td>1.0</td>\n",
       "      <td>90000</td>\n",
       "    </tr>\n",
       "    <tr>\n",
       "      <th>2</th>\n",
       "      <td>1.237179</td>\n",
       "      <td>-1.283901</td>\n",
       "      <td>0.447214</td>\n",
       "      <td>3.0</td>\n",
       "      <td>150000</td>\n",
       "    </tr>\n",
       "    <tr>\n",
       "      <th>3</th>\n",
       "      <td>-1.402136</td>\n",
       "      <td>1.419049</td>\n",
       "      <td>-1.341641</td>\n",
       "      <td>0.0</td>\n",
       "      <td>60000</td>\n",
       "    </tr>\n",
       "  </tbody>\n",
       "</table>\n",
       "</div>"
      ],
      "text/plain": [
       "       year        km  engine_size  brand   price\n",
       "0  0.577350 -0.473016    -0.447214    2.0  120000\n",
       "1 -0.412393  0.337869     1.341641    1.0   90000\n",
       "2  1.237179 -1.283901     0.447214    3.0  150000\n",
       "3 -1.402136  1.419049    -1.341641    0.0   60000"
      ]
     },
     "execution_count": 9,
     "metadata": {},
     "output_type": "execute_result"
    }
   ],
   "source": [
    "df = pd.DataFrame(data)\n",
    "df"
   ]
  },
  {
   "cell_type": "code",
   "execution_count": 10,
   "id": "a4ca9acd",
   "metadata": {},
   "outputs": [
    {
     "data": {
      "text/html": [
       "<div>\n",
       "<style scoped>\n",
       "    .dataframe tbody tr th:only-of-type {\n",
       "        vertical-align: middle;\n",
       "    }\n",
       "\n",
       "    .dataframe tbody tr th {\n",
       "        vertical-align: top;\n",
       "    }\n",
       "\n",
       "    .dataframe thead th {\n",
       "        text-align: right;\n",
       "    }\n",
       "</style>\n",
       "<table border=\"1\" class=\"dataframe\">\n",
       "  <thead>\n",
       "    <tr style=\"text-align: right;\">\n",
       "      <th></th>\n",
       "      <th>year</th>\n",
       "      <th>km</th>\n",
       "      <th>engine_size</th>\n",
       "      <th>brand</th>\n",
       "    </tr>\n",
       "  </thead>\n",
       "  <tbody>\n",
       "    <tr>\n",
       "      <th>0</th>\n",
       "      <td>0.577350</td>\n",
       "      <td>-0.473016</td>\n",
       "      <td>-0.447214</td>\n",
       "      <td>2.0</td>\n",
       "    </tr>\n",
       "    <tr>\n",
       "      <th>1</th>\n",
       "      <td>-0.412393</td>\n",
       "      <td>0.337869</td>\n",
       "      <td>1.341641</td>\n",
       "      <td>1.0</td>\n",
       "    </tr>\n",
       "    <tr>\n",
       "      <th>2</th>\n",
       "      <td>1.237179</td>\n",
       "      <td>-1.283901</td>\n",
       "      <td>0.447214</td>\n",
       "      <td>3.0</td>\n",
       "    </tr>\n",
       "    <tr>\n",
       "      <th>3</th>\n",
       "      <td>-1.402136</td>\n",
       "      <td>1.419049</td>\n",
       "      <td>-1.341641</td>\n",
       "      <td>0.0</td>\n",
       "    </tr>\n",
       "  </tbody>\n",
       "</table>\n",
       "</div>"
      ],
      "text/plain": [
       "       year        km  engine_size  brand\n",
       "0  0.577350 -0.473016    -0.447214    2.0\n",
       "1 -0.412393  0.337869     1.341641    1.0\n",
       "2  1.237179 -1.283901     0.447214    3.0\n",
       "3 -1.402136  1.419049    -1.341641    0.0"
      ]
     },
     "execution_count": 10,
     "metadata": {},
     "output_type": "execute_result"
    }
   ],
   "source": [
    "X = df.drop(['price'], axis=1)\n",
    "X"
   ]
  },
  {
   "cell_type": "code",
   "execution_count": 11,
   "id": "6f485412",
   "metadata": {},
   "outputs": [
    {
     "data": {
      "text/plain": [
       "0    120000\n",
       "1     90000\n",
       "2    150000\n",
       "3     60000\n",
       "Name: price, dtype: int64"
      ]
     },
     "execution_count": 11,
     "metadata": {},
     "output_type": "execute_result"
    }
   ],
   "source": [
    "y = df['price']\n",
    "y"
   ]
  },
  {
   "cell_type": "code",
   "execution_count": 12,
   "id": "9dbff800",
   "metadata": {},
   "outputs": [],
   "source": [
    "X_train, X_test, y_train, y_test = X.iloc[:3], X.iloc[3:], y.iloc[:3], y.iloc[3:]"
   ]
  },
  {
   "cell_type": "code",
   "execution_count": 13,
   "id": "1c550176",
   "metadata": {},
   "outputs": [
    {
     "data": {
      "text/plain": [
       "array([[ 0.57735026, -0.47301617, -0.4472136 ,  2.        ],\n",
       "       [-0.41239306,  0.3378687 ,  1.3416408 ,  1.        ],\n",
       "       [ 1.2371792 , -1.283901  ,  0.4472136 ,  3.        ]],\n",
       "      dtype=float32)"
      ]
     },
     "execution_count": 13,
     "metadata": {},
     "output_type": "execute_result"
    }
   ],
   "source": [
    "X_train = np.asarray(X_train).astype(np.float32)\n",
    "X_train"
   ]
  },
  {
   "cell_type": "code",
   "execution_count": 14,
   "id": "418d7a56",
   "metadata": {},
   "outputs": [
    {
     "data": {
      "text/plain": [
       "array([[-1.4021363,  1.4190485, -1.3416408,  0.       ]], dtype=float32)"
      ]
     },
     "execution_count": 14,
     "metadata": {},
     "output_type": "execute_result"
    }
   ],
   "source": [
    "X_test = np.asarray(X_test).astype(np.float32)\n",
    "X_test"
   ]
  },
  {
   "cell_type": "code",
   "execution_count": 15,
   "id": "717cd42a",
   "metadata": {},
   "outputs": [
    {
     "data": {
      "text/plain": [
       "array([120000.,  90000., 150000.], dtype=float32)"
      ]
     },
     "execution_count": 15,
     "metadata": {},
     "output_type": "execute_result"
    }
   ],
   "source": [
    "y_train = np.asarray(y_train).astype(np.float32)\n",
    "y_train"
   ]
  },
  {
   "cell_type": "code",
   "execution_count": 16,
   "id": "d4d9c1b1",
   "metadata": {},
   "outputs": [
    {
     "data": {
      "text/plain": [
       "array([60000.], dtype=float32)"
      ]
     },
     "execution_count": 16,
     "metadata": {},
     "output_type": "execute_result"
    }
   ],
   "source": [
    "y_test = np.asarray(y_test).astype(np.float32)\n",
    "y_test"
   ]
  },
  {
   "cell_type": "code",
   "execution_count": 17,
   "id": "e3845454",
   "metadata": {},
   "outputs": [],
   "source": [
    "W = np.random.randn(X_train.shape[1])\n",
    "b = 0."
   ]
  },
  {
   "cell_type": "code",
   "execution_count": 18,
   "id": "9acd0251",
   "metadata": {},
   "outputs": [
    {
     "data": {
      "text/plain": [
       "array([-1.10546063,  0.07530671, -0.78121566,  1.19797432])"
      ]
     },
     "execution_count": 18,
     "metadata": {},
     "output_type": "execute_result"
    }
   ],
   "source": [
    "W"
   ]
  },
  {
   "cell_type": "code",
   "execution_count": 19,
   "id": "ca753373",
   "metadata": {},
   "outputs": [
    {
     "data": {
      "text/plain": [
       "0.0"
      ]
     },
     "execution_count": 19,
     "metadata": {},
     "output_type": "execute_result"
    }
   ],
   "source": [
    "b"
   ]
  },
  {
   "cell_type": "code",
   "execution_count": 20,
   "id": "459ce276",
   "metadata": {},
   "outputs": [],
   "source": [
    "def cost(X, y, W, b): \n",
    "    m = X.shape[0]\n",
    "    cost = 0.\n",
    "    for i in range(m):\n",
    "        prediction = np.dot(X[i], W) + b\n",
    "        cost += (prediction - y[i]) ** 2\n",
    "    return cost / (2*m)"
   ]
  },
  {
   "cell_type": "code",
   "execution_count": 21,
   "id": "18bc872b",
   "metadata": {},
   "outputs": [
    {
     "data": {
      "text/plain": [
       "7499809196.503006"
      ]
     },
     "execution_count": 21,
     "metadata": {},
     "output_type": "execute_result"
    }
   ],
   "source": [
    "cost(X_train, y_train, W, b)"
   ]
  },
  {
   "cell_type": "code",
   "execution_count": 22,
   "id": "526d1617",
   "metadata": {},
   "outputs": [
    {
     "data": {
      "text/plain": [
       "1799837704.7861533"
      ]
     },
     "execution_count": 22,
     "metadata": {},
     "output_type": "execute_result"
    }
   ],
   "source": [
    "cost_of_test_before_training = cost(X_test, y_test, W, b)\n",
    "cost_of_test_before_training"
   ]
  },
  {
   "cell_type": "code",
   "execution_count": 23,
   "id": "004562ac",
   "metadata": {},
   "outputs": [],
   "source": [
    "def gradient(X, y, W, b): \n",
    "    m, n = X.shape\n",
    "    derivative_w = np.zeros((n,))\n",
    "    derivative_b = 0\n",
    "    for i in range(m):\n",
    "        predictions = (np.dot(X[i], W) + b) - y[i]\n",
    "        for j in range(n):\n",
    "            derivative_w[j] += predictions * X[i, j]    \n",
    "        derivative_b += predictions\n",
    "    return derivative_w / m, derivative_b / m"
   ]
  },
  {
   "cell_type": "code",
   "execution_count": 24,
   "id": "6233091b",
   "metadata": {},
   "outputs": [
    {
     "data": {
      "text/plain": [
       "(array([ -72580.13042587,   72978.61760294,  -44721.1219416 ,\n",
       "        -259996.62841624]),\n",
       " -119998.50571176993)"
      ]
     },
     "execution_count": 24,
     "metadata": {},
     "output_type": "execute_result"
    }
   ],
   "source": [
    "gradient(X_train, y_train, W, b)"
   ]
  },
  {
   "cell_type": "code",
   "execution_count": 25,
   "id": "3dc2128b",
   "metadata": {},
   "outputs": [],
   "source": [
    "def gradient_descent(X, y, W, b, cost_function, gradient_function, alpha, num_iters): \n",
    "    m, n = X.shape\n",
    "    for i in range(num_iters):\n",
    "        derivative_w, derivative_b = gradient_function(X, y, W, b)  \n",
    "        W = W - alpha * derivative_w               \n",
    "        b = b - alpha * derivative_b               \n",
    "        cost =  np.sum(cost_function(X, y, W, b))\n",
    "        if i % (num_iters / 10) == 0:\n",
    "            print(f\"Iteration {i:4}: Cost {float(cost):8.2f}   \")\n",
    "    print(f\"Iteration {num_iters:4}: Cost {float(cost):8.2f}   \")\n",
    "    return W, b"
   ]
  },
  {
   "cell_type": "code",
   "execution_count": 26,
   "id": "6f74886a",
   "metadata": {},
   "outputs": [],
   "source": [
    "alpha = 0.01\n",
    "iterations = 100"
   ]
  },
  {
   "cell_type": "code",
   "execution_count": 27,
   "id": "52cdcb47",
   "metadata": {},
   "outputs": [
    {
     "name": "stdout",
     "output_type": "stream",
     "text": [
      "Iteration    0: Cost 6584746351.77   \n",
      "Iteration   10: Cost 1887562172.73   \n",
      "Iteration   20: Cost 652523781.07   \n",
      "Iteration   30: Cost 314425845.63   \n",
      "Iteration   40: Cost 210860451.77   \n",
      "Iteration   50: Cost 170391759.60   \n",
      "Iteration   60: Cost 148337205.52   \n",
      "Iteration   70: Cost 132794698.65   \n",
      "Iteration   80: Cost 120386172.87   \n",
      "Iteration   90: Cost 109988007.52   \n",
      "Iteration  100: Cost 101933242.05   \n"
     ]
    }
   ],
   "source": [
    "W, b = gradient_descent(X_train, y_train, W, b, cost, gradient, alpha, iterations)"
   ]
  },
  {
   "cell_type": "code",
   "execution_count": 28,
   "id": "975866a9",
   "metadata": {},
   "outputs": [],
   "source": [
    "alpha = 0.015"
   ]
  },
  {
   "cell_type": "code",
   "execution_count": 29,
   "id": "9a67d6ad",
   "metadata": {},
   "outputs": [
    {
     "name": "stdout",
     "output_type": "stream",
     "text": [
      "Iteration    0: Cost 100691090.35   \n",
      "Iteration   10: Cost 89637240.18   \n",
      "Iteration   20: Cost 80630035.07   \n",
      "Iteration   30: Cost 73178385.51   \n",
      "Iteration   40: Cost 66919894.88   \n",
      "Iteration   50: Cost 61584697.70   \n",
      "Iteration   60: Cost 56971103.61   \n",
      "Iteration   70: Cost 52927890.22   \n",
      "Iteration   80: Cost 49341247.68   \n",
      "Iteration   90: Cost 46125128.36   \n",
      "Iteration  100: Cost 43493009.47   \n"
     ]
    }
   ],
   "source": [
    "W, b = gradient_descent(X_train, y_train, W, b, cost, gradient, alpha, iterations)"
   ]
  },
  {
   "cell_type": "code",
   "execution_count": 30,
   "id": "3d3d998b",
   "metadata": {},
   "outputs": [],
   "source": [
    "alpha = 0.02"
   ]
  },
  {
   "cell_type": "code",
   "execution_count": 31,
   "id": "a8633b20",
   "metadata": {},
   "outputs": [
    {
     "name": "stdout",
     "output_type": "stream",
     "text": [
      "Iteration    0: Cost 43121427.09   \n",
      "Iteration   10: Cost 39637709.11   \n",
      "Iteration   20: Cost 36519151.36   \n",
      "Iteration   30: Cost 33702299.58   \n",
      "Iteration   40: Cost 31140562.65   \n",
      "Iteration   50: Cost 28798915.04   \n",
      "Iteration   60: Cost 26650338.10   \n",
      "Iteration   70: Cost 24673423.66   \n",
      "Iteration   80: Cost 22850755.06   \n",
      "Iteration   90: Cost 21167808.41   \n",
      "Iteration  100: Cost 19762350.25   \n"
     ]
    }
   ],
   "source": [
    "W, b = gradient_descent(X_train, y_train, W, b, cost, gradient, alpha, iterations)"
   ]
  },
  {
   "cell_type": "code",
   "execution_count": 32,
   "id": "9c1d1b80",
   "metadata": {},
   "outputs": [],
   "source": [
    "alpha = 0.025"
   ]
  },
  {
   "cell_type": "code",
   "execution_count": 33,
   "id": "0993dc90",
   "metadata": {},
   "outputs": [
    {
     "name": "stdout",
     "output_type": "stream",
     "text": [
      "Iteration    0: Cost 19574757.05   \n",
      "Iteration   10: Cost 17795703.47   \n",
      "Iteration   20: Cost 16180435.49   \n",
      "Iteration   30: Cost 14713044.57   \n",
      "Iteration   40: Cost 13379491.73   \n",
      "Iteration   50: Cost 12167267.68   \n",
      "Iteration   60: Cost 11065151.52   \n",
      "Iteration   70: Cost 10063032.17   \n",
      "Iteration   80: Cost 9151770.55   \n",
      "Iteration   90: Cost 8323089.08   \n",
      "Iteration  100: Cost 7641662.13   \n"
     ]
    }
   ],
   "source": [
    "W, b = gradient_descent(X_train, y_train, W, b, cost, gradient, alpha, iterations)"
   ]
  },
  {
   "cell_type": "code",
   "execution_count": 35,
   "id": "200e1423",
   "metadata": {},
   "outputs": [],
   "source": [
    "alpha = 0.03"
   ]
  },
  {
   "cell_type": "code",
   "execution_count": 36,
   "id": "bcedf8e9",
   "metadata": {},
   "outputs": [
    {
     "name": "stdout",
     "output_type": "stream",
     "text": [
      "Iteration    0: Cost 7555084.88   \n",
      "Iteration   10: Cost 6741483.06   \n",
      "Iteration   20: Cost 6015514.36   \n",
      "Iteration   30: Cost 5367732.10   \n",
      "Iteration   40: Cost 4789711.45   \n",
      "Iteration   50: Cost 4273937.28   \n",
      "Iteration   60: Cost 3813705.09   \n",
      "Iteration   70: Cost 3403033.09   \n",
      "Iteration   80: Cost 3036584.00   \n",
      "Iteration   90: Cost 2709595.51   \n",
      "Iteration  100: Cost 2445522.89   \n"
     ]
    }
   ],
   "source": [
    "W, b = gradient_descent(X_train, y_train, W, b, cost, gradient, alpha, iterations)"
   ]
  },
  {
   "cell_type": "code",
   "execution_count": 37,
   "id": "8de2efb6",
   "metadata": {},
   "outputs": [],
   "source": [
    "alpha = 0.035"
   ]
  },
  {
   "cell_type": "code",
   "execution_count": 38,
   "id": "7f34cd17",
   "metadata": {},
   "outputs": [
    {
     "name": "stdout",
     "output_type": "stream",
     "text": [
      "Iteration    0: Cost 2413216.16   \n",
      "Iteration   10: Cost 2112716.16   \n",
      "Iteration   20: Cost 1849635.26   \n",
      "Iteration   30: Cost 1619313.90   \n",
      "Iteration   40: Cost 1417672.75   \n",
      "Iteration   50: Cost 1241140.49   \n",
      "Iteration   60: Cost 1086590.49   \n",
      "Iteration   70: Cost 951285.44   \n",
      "Iteration   80: Cost 832828.94   \n",
      "Iteration   90: Cost 729122.94   \n",
      "Iteration  100: Cost 646876.27   \n"
     ]
    }
   ],
   "source": [
    "W, b = gradient_descent(X_train, y_train, W, b, cost, gradient, alpha, iterations)"
   ]
  },
  {
   "cell_type": "code",
   "execution_count": 39,
   "id": "fa5432aa",
   "metadata": {},
   "outputs": [],
   "source": [
    "alpha = 0.04"
   ]
  },
  {
   "cell_type": "code",
   "execution_count": 40,
   "id": "4782c805",
   "metadata": {},
   "outputs": [
    {
     "name": "stdout",
     "output_type": "stream",
     "text": [
      "Iteration    0: Cost 637114.51   \n",
      "Iteration   10: Cost 547243.10   \n",
      "Iteration   20: Cost 470048.95   \n",
      "Iteration   30: Cost 403743.82   \n",
      "Iteration   40: Cost 346791.69   \n",
      "Iteration   50: Cost 297873.23   \n",
      "Iteration   60: Cost 255855.21   \n",
      "Iteration   70: Cost 219764.26   \n",
      "Iteration   80: Cost 188764.30   \n",
      "Iteration   90: Cost 162137.19   \n",
      "Iteration  100: Cost 141399.92   \n"
     ]
    }
   ],
   "source": [
    "W, b = gradient_descent(X_train, y_train, W, b, cost, gradient, alpha, iterations)"
   ]
  },
  {
   "cell_type": "code",
   "execution_count": 41,
   "id": "02985053",
   "metadata": {},
   "outputs": [],
   "source": [
    "alpha = 0.045"
   ]
  },
  {
   "cell_type": "code",
   "execution_count": 42,
   "id": "de2fc1e5",
   "metadata": {},
   "outputs": [
    {
     "name": "stdout",
     "output_type": "stream",
     "text": [
      "Iteration    0: Cost 139000.52   \n",
      "Iteration   10: Cost 117135.67   \n",
      "Iteration   20: Cost 98710.17   \n",
      "Iteration   30: Cost 83183.01   \n",
      "Iteration   40: Cost 70098.28   \n",
      "Iteration   50: Cost 59071.78   \n",
      "Iteration   60: Cost 49779.76   \n",
      "Iteration   70: Cost 41949.38   \n",
      "Iteration   80: Cost 35350.72   \n",
      "Iteration   90: Cost 29790.03   \n",
      "Iteration  100: Cost 25537.39   \n"
     ]
    }
   ],
   "source": [
    "W, b = gradient_descent(X_train, y_train, W, b, cost, gradient, alpha, iterations)"
   ]
  },
  {
   "cell_type": "code",
   "execution_count": 43,
   "id": "4b47eae4",
   "metadata": {},
   "outputs": [],
   "source": [
    "alpha = 0.05"
   ]
  },
  {
   "cell_type": "code",
   "execution_count": 44,
   "id": "d6b35de2",
   "metadata": {},
   "outputs": [
    {
     "name": "stdout",
     "output_type": "stream",
     "text": [
      "Iteration    0: Cost 25056.13   \n",
      "Iteration   10: Cost 20715.18   \n",
      "Iteration   20: Cost 17126.30   \n",
      "Iteration   30: Cost 14159.18   \n",
      "Iteration   40: Cost 11706.12   \n",
      "Iteration   50: Cost  9678.05   \n",
      "Iteration   60: Cost  8001.33   \n",
      "Iteration   70: Cost  6615.11   \n",
      "Iteration   80: Cost  5469.05   \n",
      "Iteration   90: Cost  4521.54   \n",
      "Iteration  100: Cost  3809.99   \n"
     ]
    }
   ],
   "source": [
    "W, b = gradient_descent(X_train, y_train, W, b, cost, gradient, alpha, iterations)"
   ]
  },
  {
   "cell_type": "code",
   "execution_count": 45,
   "id": "1034123d",
   "metadata": {},
   "outputs": [],
   "source": [
    "alpha = 0.055"
   ]
  },
  {
   "cell_type": "code",
   "execution_count": 46,
   "id": "08aa3f93",
   "metadata": {},
   "outputs": [
    {
     "name": "stdout",
     "output_type": "stream",
     "text": [
      "Iteration    0: Cost  3731.05   \n",
      "Iteration   10: Cost  3026.21   \n",
      "Iteration   20: Cost  2454.53   \n",
      "Iteration   30: Cost  1990.84   \n",
      "Iteration   40: Cost  1614.75   \n",
      "Iteration   50: Cost  1309.71   \n",
      "Iteration   60: Cost  1062.29   \n",
      "Iteration   70: Cost   861.61   \n",
      "Iteration   80: Cost   698.85   \n",
      "Iteration   90: Cost   566.83   \n",
      "Iteration  100: Cost   469.47   \n"
     ]
    }
   ],
   "source": [
    "W, b = gradient_descent(X_train, y_train, W, b, cost, gradient, alpha, iterations)"
   ]
  },
  {
   "cell_type": "code",
   "execution_count": 47,
   "id": "aef366e5",
   "metadata": {},
   "outputs": [],
   "source": [
    "alpha = 0.06"
   ]
  },
  {
   "cell_type": "code",
   "execution_count": 48,
   "id": "978c73ff",
   "metadata": {},
   "outputs": [
    {
     "name": "stdout",
     "output_type": "stream",
     "text": [
      "Iteration    0: Cost   458.87   \n",
      "Iteration   10: Cost   365.13   \n",
      "Iteration   20: Cost   290.53   \n",
      "Iteration   30: Cost   231.18   \n",
      "Iteration   40: Cost   183.95   \n",
      "Iteration   50: Cost   146.37   \n",
      "Iteration   60: Cost   116.47   \n",
      "Iteration   70: Cost    92.68   \n",
      "Iteration   80: Cost    73.74   \n",
      "Iteration   90: Cost    58.68   \n",
      "Iteration  100: Cost    47.77   \n"
     ]
    }
   ],
   "source": [
    "W, b = gradient_descent(X_train, y_train, W, b, cost, gradient, alpha, iterations)"
   ]
  },
  {
   "cell_type": "code",
   "execution_count": 49,
   "id": "082432e7",
   "metadata": {},
   "outputs": [
    {
     "data": {
      "text/plain": [
       "array([-7085.32548792, 10698.85876424,  -857.90251836, 44141.33456451])"
      ]
     },
     "execution_count": 49,
     "metadata": {},
     "output_type": "execute_result"
    }
   ],
   "source": [
    "W"
   ]
  },
  {
   "cell_type": "code",
   "execution_count": 50,
   "id": "da7bd8d4",
   "metadata": {},
   "outputs": [
    {
     "data": {
      "text/plain": [
       "40471.12891001622"
      ]
     },
     "execution_count": 50,
     "metadata": {},
     "output_type": "execute_result"
    }
   ],
   "source": [
    "b"
   ]
  },
  {
   "cell_type": "code",
   "execution_count": 51,
   "id": "45a4b451",
   "metadata": {},
   "outputs": [
    {
     "data": {
      "text/plain": [
       "47.77071772505596"
      ]
     },
     "execution_count": 51,
     "metadata": {},
     "output_type": "execute_result"
    }
   ],
   "source": [
    "cost(X_train, y_train, W, b)"
   ]
  },
  {
   "cell_type": "code",
   "execution_count": 52,
   "id": "326321a5",
   "metadata": {},
   "outputs": [
    {
     "data": {
      "text/plain": [
       "22706509.22454511"
      ]
     },
     "execution_count": 52,
     "metadata": {},
     "output_type": "execute_result"
    }
   ],
   "source": [
    "cost_of_test_after_training = cost(X_test, y_test, W, b)\n",
    "cost_of_test_after_training"
   ]
  },
  {
   "cell_type": "code",
   "execution_count": 53,
   "id": "bf3f7af9",
   "metadata": {},
   "outputs": [
    {
     "name": "stdout",
     "output_type": "stream",
     "text": [
      "Cost before training:  1799837704.7861533\n",
      "Cost after training:  22706509.22454511\n",
      "Diff:  1777131195.5616083\n"
     ]
    }
   ],
   "source": [
    "print(\"Cost before training: \", cost_of_test_before_training)\n",
    "print(\"Cost after training: \", cost_of_test_after_training)\n",
    "print(\"Diff: \", cost_of_test_before_training - cost_of_test_after_training)"
   ]
  },
  {
   "cell_type": "code",
   "execution_count": 54,
   "id": "6ba07790",
   "metadata": {},
   "outputs": [],
   "source": [
    "def predict(X, W, b):\n",
    "    return (np.dot(X, W) + b).astype(np.float32)"
   ]
  },
  {
   "cell_type": "code",
   "execution_count": 55,
   "id": "7dc04384",
   "metadata": {},
   "outputs": [
    {
     "data": {
      "text/plain": [
       "array([66738.92], dtype=float32)"
      ]
     },
     "execution_count": 55,
     "metadata": {},
     "output_type": "execute_result"
    }
   ],
   "source": [
    "y_pred = predict(X_test, W, b)\n",
    "y_pred"
   ]
  },
  {
   "cell_type": "code",
   "execution_count": 56,
   "id": "376976c1",
   "metadata": {},
   "outputs": [
    {
     "data": {
      "text/plain": [
       "array([60000.], dtype=float32)"
      ]
     },
     "execution_count": 56,
     "metadata": {},
     "output_type": "execute_result"
    }
   ],
   "source": [
    "y_test"
   ]
  },
  {
   "cell_type": "code",
   "execution_count": 69,
   "id": "bc700c38",
   "metadata": {},
   "outputs": [],
   "source": [
    "def accuracy(y, y_pred):\n",
    "    diff = np.absolute(y_pred - y)\n",
    "    return 100 - np.absolute(diff / y) * 100"
   ]
  },
  {
   "cell_type": "code",
   "execution_count": 70,
   "id": "0a63accd",
   "metadata": {},
   "outputs": [
    {
     "data": {
      "text/plain": [
       "array([89.90256], dtype=float32)"
      ]
     },
     "execution_count": 70,
     "metadata": {},
     "output_type": "execute_result"
    }
   ],
   "source": [
    "acc = accuracy(y_pred, y_test)\n",
    "acc"
   ]
  },
  {
   "cell_type": "code",
   "execution_count": 71,
   "id": "875c92e3",
   "metadata": {},
   "outputs": [
    {
     "name": "stdout",
     "output_type": "stream",
     "text": [
      "Model accuracy is:  89.90256\n"
     ]
    }
   ],
   "source": [
    "print(\"Model accuracy is: \", acc[0])"
   ]
  }
 ],
 "metadata": {
  "kernelspec": {
   "display_name": "Python 3 (ipykernel)",
   "language": "python",
   "name": "python3"
  },
  "language_info": {
   "codemirror_mode": {
    "name": "ipython",
    "version": 3
   },
   "file_extension": ".py",
   "mimetype": "text/x-python",
   "name": "python",
   "nbconvert_exporter": "python",
   "pygments_lexer": "ipython3",
   "version": "3.11.5"
  }
 },
 "nbformat": 4,
 "nbformat_minor": 5
}
